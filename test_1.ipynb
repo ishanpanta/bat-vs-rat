{
 "cells": [
  {
   "cell_type": "code",
   "execution_count": null,
   "id": "fa353de5",
   "metadata": {},
   "outputs": [],
   "source": [
    "import pandas as pd"
   ]
  },
  {
   "cell_type": "code",
   "execution_count": 3,
   "id": "4c7945be",
   "metadata": {},
   "outputs": [],
   "source": [
    "\"\"\"Load the data\"\"\"\n",
    "\n",
    "bat_data_1=pd.read_csv(\"dataset1.csv\")"
   ]
  },
  {
   "cell_type": "code",
   "execution_count": 4,
   "id": "ac321633",
   "metadata": {},
   "outputs": [],
   "source": [
    "\"\"\"Normalize coloumn names\"\"\"\n",
    "\n",
    "bat_data_1.columns = bat_data_1.columns.str.strip().str.lower().str.replace(\" \",\"_\")\n",
    "#This normalize data by striping unnecessary white spaces.\n",
    "#Converting str to lower case.\n",
    "#Replacing space between words with underscore(_)"
   ]
  },
  {
   "cell_type": "code",
   "execution_count": null,
   "id": "3272726c",
   "metadata": {},
   "outputs": [],
   "source": [
    "\"\"\"Convert date in proper format\"\"\""
   ]
  }
 ],
 "metadata": {
  "kernelspec": {
   "display_name": "python Bat Vs Rat",
   "language": "python",
   "name": "bat-vs-rat"
  },
  "language_info": {
   "codemirror_mode": {
    "name": "ipython",
    "version": 3
   },
   "file_extension": ".py",
   "mimetype": "text/x-python",
   "name": "python",
   "nbconvert_exporter": "python",
   "pygments_lexer": "ipython3",
   "version": "3.13.5"
  }
 },
 "nbformat": 4,
 "nbformat_minor": 5
}
