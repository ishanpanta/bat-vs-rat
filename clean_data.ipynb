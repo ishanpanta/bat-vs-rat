{
 "cells": [
  {
   "cell_type": "code",
   "execution_count": 63,
   "id": "973bbdd1",
   "metadata": {},
   "outputs": [
    {
     "data": {
      "text/plain": [
       "<module 'clean_function' from 'c:\\\\GitHub\\\\bat-vs-rat\\\\clean_function.py'>"
      ]
     },
     "execution_count": 63,
     "metadata": {},
     "output_type": "execute_result"
    }
   ],
   "source": [
    "\"\"\"Check and clean the data here.\"\"\"\n",
    "import pandas as pd\n",
    "import importlib\n",
    "import clean_function as cf\n",
    "\n",
    "importlib.reload(cf)\n"
   ]
  },
  {
   "cell_type": "code",
   "execution_count": 64,
   "id": "226584c7",
   "metadata": {},
   "outputs": [],
   "source": [
    "\n",
    "bat_data=cf.read_data(\"dataset1.csv\")\n",
    "rat_data=cf.read_data(\"dataset2.csv\")"
   ]
  }
 ],
 "metadata": {
  "kernelspec": {
   "display_name": "python Bat Vs Rat",
   "language": "python",
   "name": "bat-vs-rat"
  },
  "language_info": {
   "codemirror_mode": {
    "name": "ipython",
    "version": 3
   },
   "file_extension": ".py",
   "mimetype": "text/x-python",
   "name": "python",
   "nbconvert_exporter": "python",
   "pygments_lexer": "ipython3",
   "version": "3.13.5"
  }
 },
 "nbformat": 4,
 "nbformat_minor": 5
}
