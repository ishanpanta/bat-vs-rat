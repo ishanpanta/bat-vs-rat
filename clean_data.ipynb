{
 "cells": [
  {
   "cell_type": "code",
   "execution_count": 625,
   "id": "973bbdd1",
   "metadata": {},
   "outputs": [],
   "source": [
    "\"\"\"Check and clean the data here.\"\"\"\n",
    "import pandas as pd\n",
    "import importlib\n",
    "import clean_function as cf\n",
    "\n",
    "importlib.reload(cf)\n",
    "\n",
    "import pandas as pd\n",
    "\n",
    "pd.set_option(\"display.expand_frame_repr\", False)\n",
    "pd.set_option(\"display.max_columns\", None)   # show all columns\n",
    "pd.set_option(\"display.width\", None)         # don't wrap lines\n",
    "\n"
   ]
  },
  {
   "cell_type": "code",
   "execution_count": 626,
   "id": "226584c7",
   "metadata": {},
   "outputs": [],
   "source": [
    "\n",
    "bat_data=cf.read_data(\"dataset1.csv\")\n",
    "rat_data=cf.read_data(\"dataset2.csv\")"
   ]
  },
  {
   "cell_type": "code",
   "execution_count": 627,
   "id": "a9b7f41d",
   "metadata": {},
   "outputs": [
    {
     "name": "stdout",
     "output_type": "stream",
     "text": [
      "\n",
      "Checking value for DataSet 1:\n",
      "         start_time  bat_landing_to_food habit  rat_period_start    rat_period_end  seconds_after_rat_arrival  risk  reward  month       sunset_time  hours_after_sunset  season\n",
      "0  30/12/2017 18:37            16.000000   rat  30/12/2017 18:35  30/12/2017 18:38                        108     1       0      0  30/12/2017 16:45            1.870833       0\n",
      "1  30/12/2017 19:51             0.074016  fast  30/12/2017 19:50  30/12/2017 19:55                         17     0       1      0  30/12/2017 16:45            3.100833       0\n",
      "2  30/12/2017 19:51             4.000000  fast  30/12/2017 19:50  30/12/2017 19:55                         41     0       1      0  30/12/2017 16:45            3.107500       0\n",
      "3  30/12/2017 19:52            10.000000   rat  30/12/2017 19:50  30/12/2017 19:55                        111     1       0      0  30/12/2017 16:45            3.126944       0\n",
      "4  30/12/2017 19:54            15.000000   rat  30/12/2017 19:50  30/12/2017 19:55                        194     1       0      0  30/12/2017 16:45            3.150000       0\n",
      "\n",
      "Checking value for DataSet 2:\n",
      "               time  month  hours_after_sunset  bat_landing_number  food_availability  rat_minutes  rat_arrival_number\n",
      "0  26/12/2017 16:13      0                -0.5                  20           4.000000          0.0                   0\n",
      "1  26/12/2017 16:43      0                 0.0                  28           4.000000          0.0                   0\n",
      "2  26/12/2017 17:13      0                 0.5                  25           4.000000          0.0                   0\n",
      "3  26/12/2017 17:43      0                 1.0                  71           4.000000          0.0                   0\n",
      "4  26/12/2017 18:13      0                 1.5                  44           3.753857          0.0                   0\n"
     ]
    }
   ],
   "source": [
    "cf.check_few_values(bat_data, \"DataSet 1\")\n",
    "cf.check_few_values(rat_data, \"DataSet 2\")"
   ]
  },
  {
   "cell_type": "code",
   "execution_count": 628,
   "id": "b1b0edcf",
   "metadata": {},
   "outputs": [
    {
     "name": "stdout",
     "output_type": "stream",
     "text": [
      "\n",
      "Check missing value and datatype in DataSet 1\n",
      "Column: start_time, dtype: object missing: 0 (0.0%)\n",
      "Column: bat_landing_to_food, dtype: float64 missing: 0 (0.0%)\n",
      "Column: habit, dtype: object missing: 41 (4.5%)\n",
      "Column: rat_period_start, dtype: object missing: 0 (0.0%)\n",
      "Column: rat_period_end, dtype: object missing: 0 (0.0%)\n",
      "Column: seconds_after_rat_arrival, dtype: int64 missing: 0 (0.0%)\n",
      "Column: risk, dtype: int64 missing: 0 (0.0%)\n",
      "Column: reward, dtype: int64 missing: 0 (0.0%)\n",
      "Column: month, dtype: int64 missing: 0 (0.0%)\n",
      "Column: sunset_time, dtype: object missing: 0 (0.0%)\n",
      "Column: hours_after_sunset, dtype: float64 missing: 0 (0.0%)\n",
      "Column: season, dtype: int64 missing: 0 (0.0%)\n",
      "\n",
      "Check missing value and datatype in DataSet 2\n",
      "Column: time, dtype: object missing: 0 (0.0%)\n",
      "Column: month, dtype: int64 missing: 0 (0.0%)\n",
      "Column: hours_after_sunset, dtype: float64 missing: 0 (0.0%)\n",
      "Column: bat_landing_number, dtype: int64 missing: 0 (0.0%)\n",
      "Column: food_availability, dtype: float64 missing: 0 (0.0%)\n",
      "Column: rat_minutes, dtype: float64 missing: 0 (0.0%)\n",
      "Column: rat_arrival_number, dtype: int64 missing: 0 (0.0%)\n"
     ]
    }
   ],
   "source": [
    "# Check missing values in percentage and also find the datatypes.\n",
    "print(\"\\nCheck missing value and datatype in DataSet 1\")\n",
    "for col in bat_data.columns:\n",
    "    cf.missing_values_and_datatype_find(bat_data, col)\n",
    "\n",
    "print(\"\\nCheck missing value and datatype in DataSet 2\") \n",
    "for col in rat_data.columns:\n",
    "    cf.missing_values_and_datatype_find(rat_data,  col)"
   ]
  },
  {
   "cell_type": "code",
   "execution_count": 629,
   "id": "03005dc9",
   "metadata": {},
   "outputs": [
    {
     "name": "stdout",
     "output_type": "stream",
     "text": [
      "\n",
      "Datetime conversion result for DataSet 1\n",
      "start_time:Converted to datetime\n",
      "habit:Not a datetime column.\n",
      "rat_period_start:Converted to datetime\n",
      "rat_period_end:Converted to datetime\n",
      "sunset_time:Converted to datetime\n",
      "\n",
      "Datetime conversion result for DataSet 2\n",
      "time:Converted to datetime\n"
     ]
    }
   ],
   "source": [
    "# Detect and convert object to datetime.\n",
    "# Seperate orginal data with clean data.\n",
    "bat_data_clean = cf.detect_and_convert_datetime(bat_data, \"DataSet 1\")\n",
    "rat_data_clean = cf.detect_and_convert_datetime(rat_data, \"DataSet 2\")"
   ]
  },
  {
   "cell_type": "code",
   "execution_count": 630,
   "id": "c77dd02e",
   "metadata": {},
   "outputs": [
    {
     "name": "stdout",
     "output_type": "stream",
     "text": [
      "\n",
      "Numeric conversion result for DataSet 1\n",
      "habit:Not a numeric column.\n",
      "\n",
      "Numeric conversion result for DataSet 2\n"
     ]
    }
   ],
   "source": [
    "# Detect and convert object to numeric datatype.\n",
    "bat_data_clean = cf.detect_and_convert_number(bat_data_clean, \"DataSet 1\")\n",
    "rat_data_clean = cf.detect_and_convert_number(rat_data_clean, \"DataSet 2\")"
   ]
  },
  {
   "cell_type": "code",
   "execution_count": 631,
   "id": "6dc48af3",
   "metadata": {},
   "outputs": [
    {
     "name": "stdout",
     "output_type": "stream",
     "text": [
      "\n",
      " Summary of Dataset 1:\n",
      "int64             5\n",
      "datetime64[ns]    4\n",
      "float64           2\n",
      "object            1\n",
      "Name: count, dtype: int64\n",
      "\n",
      "Detailed View:\n",
      "start_time                   datetime64[ns]\n",
      "bat_landing_to_food                 float64\n",
      "habit                                object\n",
      "rat_period_start             datetime64[ns]\n",
      "rat_period_end               datetime64[ns]\n",
      "seconds_after_rat_arrival             int64\n",
      "risk                                  int64\n",
      "reward                                int64\n",
      "month                                 int64\n",
      "sunset_time                  datetime64[ns]\n",
      "hours_after_sunset                  float64\n",
      "season                                int64\n",
      "dtype: object\n",
      "\n",
      " Summary of Dataset 2:\n",
      "int64             3\n",
      "float64           3\n",
      "datetime64[ns]    1\n",
      "Name: count, dtype: int64\n",
      "\n",
      "Detailed View:\n",
      "time                  datetime64[ns]\n",
      "month                          int64\n",
      "hours_after_sunset           float64\n",
      "bat_landing_number             int64\n",
      "food_availability            float64\n",
      "rat_minutes                  float64\n",
      "rat_arrival_number             int64\n",
      "dtype: object\n"
     ]
    }
   ],
   "source": [
    "cf.datatype_conversion_summary(bat_data_clean, \"Dataset 1\")\n",
    "cf.datatype_conversion_summary(rat_data_clean, \"Dataset 2\")"
   ]
  },
  {
   "cell_type": "code",
   "execution_count": 632,
   "id": "f737e6d8",
   "metadata": {},
   "outputs": [
    {
     "name": "stdout",
     "output_type": "stream",
     "text": [
      "\n",
      "Check missing value and datatype in DataSet 1\n",
      "Column: start_time, dtype: datetime64[ns] missing: 0 (0.0%)\n",
      "Column: bat_landing_to_food, dtype: float64 missing: 0 (0.0%)\n",
      "Column: habit, dtype: object missing: 41 (4.5%)\n",
      "Column: rat_period_start, dtype: datetime64[ns] missing: 0 (0.0%)\n",
      "Column: rat_period_end, dtype: datetime64[ns] missing: 0 (0.0%)\n",
      "Column: seconds_after_rat_arrival, dtype: int64 missing: 0 (0.0%)\n",
      "Column: risk, dtype: int64 missing: 0 (0.0%)\n",
      "Column: reward, dtype: int64 missing: 0 (0.0%)\n",
      "Column: month, dtype: int64 missing: 0 (0.0%)\n",
      "Column: sunset_time, dtype: datetime64[ns] missing: 0 (0.0%)\n",
      "Column: hours_after_sunset, dtype: float64 missing: 0 (0.0%)\n",
      "Column: season, dtype: int64 missing: 0 (0.0%)\n",
      "\n",
      "Check missing value and datatype in DataSet 2\n",
      "Column: time, dtype: datetime64[ns] missing: 0 (0.0%)\n",
      "Column: month, dtype: int64 missing: 0 (0.0%)\n",
      "Column: hours_after_sunset, dtype: float64 missing: 0 (0.0%)\n",
      "Column: bat_landing_number, dtype: int64 missing: 0 (0.0%)\n",
      "Column: food_availability, dtype: float64 missing: 0 (0.0%)\n",
      "Column: rat_minutes, dtype: float64 missing: 0 (0.0%)\n",
      "Column: rat_arrival_number, dtype: int64 missing: 0 (0.0%)\n"
     ]
    }
   ],
   "source": [
    "# Check missing values in percentage and also find the datatypes.\n",
    "print(\"\\nCheck missing value and datatype in DataSet 1\")\n",
    "for col in bat_data.columns:\n",
    "    cf.missing_values_and_datatype_find(bat_data_clean, col)\n",
    "\n",
    "print(\"\\nCheck missing value and datatype in DataSet 2\") \n",
    "for col in rat_data.columns:\n",
    "    cf.missing_values_and_datatype_find(rat_data_clean,  col)"
   ]
  },
  {
   "cell_type": "code",
   "execution_count": 633,
   "id": "c5da739b",
   "metadata": {},
   "outputs": [
    {
     "name": "stdout",
     "output_type": "stream",
     "text": [
      "\n",
      "Handling missing data in: Dataset 2\n",
      "No missing data in Dataset 2\n",
      "\n",
      "Handling missing data in: Dataset 1\n",
      "Missing in habit filled with mode = fast\n"
     ]
    }
   ],
   "source": [
    "# Now handle missing values using median and mode.\n",
    "rat_data_clean = cf.handle_missing_values(rat_data_clean,\"Dataset 2\")\n",
    "bat_data_clean = cf.handle_missing_values(bat_data_clean, \"Dataset 1\")"
   ]
  },
  {
   "cell_type": "code",
   "execution_count": 634,
   "id": "b7a33494",
   "metadata": {},
   "outputs": [
    {
     "name": "stdout",
     "output_type": "stream",
     "text": [
      "\n",
      "Check missing value and datatype in DataSet 1\n",
      "Column: start_time, dtype: datetime64[ns] missing: 0 (0.0%)\n",
      "Column: bat_landing_to_food, dtype: float64 missing: 0 (0.0%)\n",
      "Column: habit, dtype: object missing: 0 (0.0%)\n",
      "Column: rat_period_start, dtype: datetime64[ns] missing: 0 (0.0%)\n",
      "Column: rat_period_end, dtype: datetime64[ns] missing: 0 (0.0%)\n",
      "Column: seconds_after_rat_arrival, dtype: int64 missing: 0 (0.0%)\n",
      "Column: risk, dtype: int64 missing: 0 (0.0%)\n",
      "Column: reward, dtype: int64 missing: 0 (0.0%)\n",
      "Column: month, dtype: int64 missing: 0 (0.0%)\n",
      "Column: sunset_time, dtype: datetime64[ns] missing: 0 (0.0%)\n",
      "Column: hours_after_sunset, dtype: float64 missing: 0 (0.0%)\n",
      "Column: season, dtype: int64 missing: 0 (0.0%)\n",
      "\n",
      "Check missing value and datatype in DataSet 2\n",
      "Column: time, dtype: datetime64[ns] missing: 0 (0.0%)\n",
      "Column: month, dtype: int64 missing: 0 (0.0%)\n",
      "Column: hours_after_sunset, dtype: float64 missing: 0 (0.0%)\n",
      "Column: bat_landing_number, dtype: int64 missing: 0 (0.0%)\n",
      "Column: food_availability, dtype: float64 missing: 0 (0.0%)\n",
      "Column: rat_minutes, dtype: float64 missing: 0 (0.0%)\n",
      "Column: rat_arrival_number, dtype: int64 missing: 0 (0.0%)\n"
     ]
    }
   ],
   "source": [
    "# Check missing values if any after handling the data .\n",
    "print(\"\\nCheck missing value and datatype in DataSet 1\")\n",
    "for col in bat_data.columns:\n",
    "    cf.missing_values_and_datatype_find(bat_data, col)\n",
    "\n",
    "print(\"\\nCheck missing value and datatype in DataSet 2\") \n",
    "for col in rat_data.columns:\n",
    "    cf.missing_values_and_datatype_find(rat_data,  col)"
   ]
  },
  {
   "cell_type": "code",
   "execution_count": 635,
   "id": "3150cf9e",
   "metadata": {},
   "outputs": [
    {
     "name": "stdout",
     "output_type": "stream",
     "text": [
      "\n",
      "Check for duplicate data and fix/ remove them.\n",
      "\n",
      "Finding duplicate data in: Dataset 1\n",
      "Found 2 duplicate rows:\n",
      "\n",
      "             start_time  bat_landing_to_food      habit    rat_period_start      rat_period_end  seconds_after_rat_arrival  risk  reward  month         sunset_time  hours_after_sunset  season\n",
      "563 2018-04-28 00:10:00                  5.0  bat_fight 2018-04-28 00:04:00 2018-04-28 00:14:00                        365     1       0      4 2018-04-27 19:18:00            4.882778       1\n",
      "564 2018-04-28 00:10:00                  5.0  bat_fight 2018-04-28 00:04:00 2018-04-28 00:14:00                        365     1       0      4 2018-04-27 19:18:00            4.882778       1\n",
      "\n",
      "Finding duplicate data in: Dataset 2\n",
      "No duplicates found\n"
     ]
    },
    {
     "data": {
      "text/html": [
       "<div>\n",
       "<style scoped>\n",
       "    .dataframe tbody tr th:only-of-type {\n",
       "        vertical-align: middle;\n",
       "    }\n",
       "\n",
       "    .dataframe tbody tr th {\n",
       "        vertical-align: top;\n",
       "    }\n",
       "\n",
       "    .dataframe thead th {\n",
       "        text-align: right;\n",
       "    }\n",
       "</style>\n",
       "<table border=\"1\" class=\"dataframe\">\n",
       "  <thead>\n",
       "    <tr style=\"text-align: right;\">\n",
       "      <th></th>\n",
       "      <th>time</th>\n",
       "      <th>month</th>\n",
       "      <th>hours_after_sunset</th>\n",
       "      <th>bat_landing_number</th>\n",
       "      <th>food_availability</th>\n",
       "      <th>rat_minutes</th>\n",
       "      <th>rat_arrival_number</th>\n",
       "    </tr>\n",
       "  </thead>\n",
       "  <tbody>\n",
       "  </tbody>\n",
       "</table>\n",
       "</div>"
      ],
      "text/plain": [
       "Empty DataFrame\n",
       "Columns: [time, month, hours_after_sunset, bat_landing_number, food_availability, rat_minutes, rat_arrival_number]\n",
       "Index: []"
      ]
     },
     "execution_count": 635,
     "metadata": {},
     "output_type": "execute_result"
    }
   ],
   "source": [
    "# Now check for dublicate data:\n",
    "print(\"\\nCheck for duplicate data and fix/ remove them.\")\n",
    "cf.show_duplicate_data(bat_data_clean, \"Dataset 1\")\n",
    "cf.show_duplicate_data(rat_data_clean, \"Dataset 2\")"
   ]
  },
  {
   "cell_type": "code",
   "execution_count": 636,
   "id": "04c4b9bb",
   "metadata": {},
   "outputs": [
    {
     "name": "stdout",
     "output_type": "stream",
     "text": [
      "\n",
      "Check for duplicate data and fix/ remove them.\n",
      "\n",
      "Handling duplicate data in: Dataset 1\n",
      "Found 1 duplicate rows\n",
      "Removed 1 duplicates\n",
      "\n",
      "Handling duplicate data in: Dataset 2\n",
      "Found 0 duplicate rows\n",
      "No duplicates found\n",
      "\n",
      "Finding duplicate data in: Dataset 1\n",
      "No duplicates found\n",
      "\n",
      "Finding duplicate data in: Dataset 2\n",
      "No duplicates found\n"
     ]
    },
    {
     "data": {
      "text/html": [
       "<div>\n",
       "<style scoped>\n",
       "    .dataframe tbody tr th:only-of-type {\n",
       "        vertical-align: middle;\n",
       "    }\n",
       "\n",
       "    .dataframe tbody tr th {\n",
       "        vertical-align: top;\n",
       "    }\n",
       "\n",
       "    .dataframe thead th {\n",
       "        text-align: right;\n",
       "    }\n",
       "</style>\n",
       "<table border=\"1\" class=\"dataframe\">\n",
       "  <thead>\n",
       "    <tr style=\"text-align: right;\">\n",
       "      <th></th>\n",
       "      <th>time</th>\n",
       "      <th>month</th>\n",
       "      <th>hours_after_sunset</th>\n",
       "      <th>bat_landing_number</th>\n",
       "      <th>food_availability</th>\n",
       "      <th>rat_minutes</th>\n",
       "      <th>rat_arrival_number</th>\n",
       "    </tr>\n",
       "  </thead>\n",
       "  <tbody>\n",
       "  </tbody>\n",
       "</table>\n",
       "</div>"
      ],
      "text/plain": [
       "Empty DataFrame\n",
       "Columns: [time, month, hours_after_sunset, bat_landing_number, food_availability, rat_minutes, rat_arrival_number]\n",
       "Index: []"
      ]
     },
     "execution_count": 636,
     "metadata": {},
     "output_type": "execute_result"
    }
   ],
   "source": [
    "# Now handle  dublicate data:\n",
    "print(\"\\nCheck for duplicate data and fix/ remove them.\")\n",
    "bat_data_clean = cf.handle_duplicates(bat_data_clean, \"Dataset 1\")\n",
    "rat_data_clean = cf.handle_duplicates(rat_data_clean, \"Dataset 2\")\n",
    "cf.show_duplicate_data(bat_data_clean, \"Dataset 1\")\n",
    "cf.show_duplicate_data(rat_data_clean, \"Dataset 2\")"
   ]
  },
  {
   "cell_type": "code",
   "execution_count": 637,
   "id": "38c4aeba",
   "metadata": {},
   "outputs": [
    {
     "name": "stdout",
     "output_type": "stream",
     "text": [
      "Manually convert categorrical coloumn in Dataset 1:\n",
      "Converted month to category.\n",
      "Converted season to category.\n",
      "Converted habit to category.\n"
     ]
    }
   ],
   "source": [
    "# Manually convert categorical data.\n",
    "print(\"Manually convert categorrical coloumn in Dataset 1:\")\n",
    "bat_data_clean = cf.convert_to_category(bat_data_clean, [\"month\", \"season\",\"habit\"])\n"
   ]
  },
  {
   "cell_type": "code",
   "execution_count": 638,
   "id": "4ac49f0d",
   "metadata": {},
   "outputs": [
    {
     "name": "stdout",
     "output_type": "stream",
     "text": [
      "Manually convert categorrical coloumn in Dataset 2:\n",
      "Converted month to category.\n"
     ]
    }
   ],
   "source": [
    "print(\"Manually convert categorrical coloumn in Dataset 2:\")\n",
    "rat_data_clean = cf.convert_to_category(rat_data_clean, [\"month\"])"
   ]
  },
  {
   "cell_type": "code",
   "execution_count": 639,
   "id": "afc26576",
   "metadata": {},
   "outputs": [
    {
     "name": "stdout",
     "output_type": "stream",
     "text": [
      "\n",
      "Check for outlier data.\n",
      "\n",
      "Checking outliers in Dataset 1:\n",
      "bat_landing_to_food: 88 outliers detected.\n",
      "seconds_after_rat_arrival: No outliers detected.\n",
      "risk: No outliers detected.\n",
      "reward: No outliers detected.\n",
      "month: 151 outliers detected.\n",
      "hours_after_sunset: No outliers detected.\n",
      "season: 151 outliers detected.\n",
      "Outlier check complete.\n",
      "\n",
      "\n",
      "Checking outliers in Dataset 2:\n",
      "month: No outliers detected.\n",
      "hours_after_sunset: No outliers detected.\n",
      "bat_landing_number: 24 outliers detected.\n",
      "food_availability: 202 outliers detected.\n",
      "rat_minutes: 511 outliers detected.\n",
      "rat_arrival_number: 92 outliers detected.\n",
      "Outlier check complete.\n",
      "\n"
     ]
    },
    {
     "data": {
      "text/html": [
       "<div>\n",
       "<style scoped>\n",
       "    .dataframe tbody tr th:only-of-type {\n",
       "        vertical-align: middle;\n",
       "    }\n",
       "\n",
       "    .dataframe tbody tr th {\n",
       "        vertical-align: top;\n",
       "    }\n",
       "\n",
       "    .dataframe thead th {\n",
       "        text-align: right;\n",
       "    }\n",
       "</style>\n",
       "<table border=\"1\" class=\"dataframe\">\n",
       "  <thead>\n",
       "    <tr style=\"text-align: right;\">\n",
       "      <th></th>\n",
       "      <th>time</th>\n",
       "      <th>month</th>\n",
       "      <th>hours_after_sunset</th>\n",
       "      <th>bat_landing_number</th>\n",
       "      <th>food_availability</th>\n",
       "      <th>rat_minutes</th>\n",
       "      <th>rat_arrival_number</th>\n",
       "    </tr>\n",
       "  </thead>\n",
       "  <tbody>\n",
       "    <tr>\n",
       "      <th>0</th>\n",
       "      <td>2017-12-26 16:13:00</td>\n",
       "      <td>0</td>\n",
       "      <td>-0.5</td>\n",
       "      <td>20</td>\n",
       "      <td>4.000000</td>\n",
       "      <td>0.0</td>\n",
       "      <td>0</td>\n",
       "    </tr>\n",
       "    <tr>\n",
       "      <th>1</th>\n",
       "      <td>2017-12-26 16:43:00</td>\n",
       "      <td>0</td>\n",
       "      <td>0.0</td>\n",
       "      <td>28</td>\n",
       "      <td>4.000000</td>\n",
       "      <td>0.0</td>\n",
       "      <td>0</td>\n",
       "    </tr>\n",
       "    <tr>\n",
       "      <th>2</th>\n",
       "      <td>2017-12-26 17:13:00</td>\n",
       "      <td>0</td>\n",
       "      <td>0.5</td>\n",
       "      <td>25</td>\n",
       "      <td>4.000000</td>\n",
       "      <td>0.0</td>\n",
       "      <td>0</td>\n",
       "    </tr>\n",
       "    <tr>\n",
       "      <th>3</th>\n",
       "      <td>2017-12-26 17:43:00</td>\n",
       "      <td>0</td>\n",
       "      <td>1.0</td>\n",
       "      <td>71</td>\n",
       "      <td>4.000000</td>\n",
       "      <td>0.0</td>\n",
       "      <td>0</td>\n",
       "    </tr>\n",
       "    <tr>\n",
       "      <th>4</th>\n",
       "      <td>2017-12-26 18:13:00</td>\n",
       "      <td>0</td>\n",
       "      <td>1.5</td>\n",
       "      <td>44</td>\n",
       "      <td>3.753857</td>\n",
       "      <td>0.0</td>\n",
       "      <td>0</td>\n",
       "    </tr>\n",
       "    <tr>\n",
       "      <th>...</th>\n",
       "      <td>...</td>\n",
       "      <td>...</td>\n",
       "      <td>...</td>\n",
       "      <td>...</td>\n",
       "      <td>...</td>\n",
       "      <td>...</td>\n",
       "      <td>...</td>\n",
       "    </tr>\n",
       "    <tr>\n",
       "      <th>2118</th>\n",
       "      <td>2018-06-01 03:41:00</td>\n",
       "      <td>6</td>\n",
       "      <td>8.0</td>\n",
       "      <td>20</td>\n",
       "      <td>1.000000</td>\n",
       "      <td>0.0</td>\n",
       "      <td>0</td>\n",
       "    </tr>\n",
       "    <tr>\n",
       "      <th>2119</th>\n",
       "      <td>2018-06-01 04:11:00</td>\n",
       "      <td>6</td>\n",
       "      <td>8.5</td>\n",
       "      <td>7</td>\n",
       "      <td>1.000000</td>\n",
       "      <td>0.0</td>\n",
       "      <td>0</td>\n",
       "    </tr>\n",
       "    <tr>\n",
       "      <th>2120</th>\n",
       "      <td>2018-06-01 04:41:00</td>\n",
       "      <td>6</td>\n",
       "      <td>9.0</td>\n",
       "      <td>6</td>\n",
       "      <td>1.000000</td>\n",
       "      <td>0.0</td>\n",
       "      <td>0</td>\n",
       "    </tr>\n",
       "    <tr>\n",
       "      <th>2121</th>\n",
       "      <td>2018-06-01 05:11:00</td>\n",
       "      <td>6</td>\n",
       "      <td>9.5</td>\n",
       "      <td>7</td>\n",
       "      <td>1.000000</td>\n",
       "      <td>0.0</td>\n",
       "      <td>0</td>\n",
       "    </tr>\n",
       "    <tr>\n",
       "      <th>2122</th>\n",
       "      <td>2018-06-01 05:41:00</td>\n",
       "      <td>6</td>\n",
       "      <td>10.0</td>\n",
       "      <td>2</td>\n",
       "      <td>1.000000</td>\n",
       "      <td>0.0</td>\n",
       "      <td>0</td>\n",
       "    </tr>\n",
       "  </tbody>\n",
       "</table>\n",
       "<p>2123 rows × 7 columns</p>\n",
       "</div>"
      ],
      "text/plain": [
       "                    time  month  hours_after_sunset  bat_landing_number  food_availability  rat_minutes  rat_arrival_number\n",
       "0    2017-12-26 16:13:00      0                -0.5                  20           4.000000          0.0                   0\n",
       "1    2017-12-26 16:43:00      0                 0.0                  28           4.000000          0.0                   0\n",
       "2    2017-12-26 17:13:00      0                 0.5                  25           4.000000          0.0                   0\n",
       "3    2017-12-26 17:43:00      0                 1.0                  71           4.000000          0.0                   0\n",
       "4    2017-12-26 18:13:00      0                 1.5                  44           3.753857          0.0                   0\n",
       "...                  ...    ...                 ...                 ...                ...          ...                 ...\n",
       "2118 2018-06-01 03:41:00      6                 8.0                  20           1.000000          0.0                   0\n",
       "2119 2018-06-01 04:11:00      6                 8.5                   7           1.000000          0.0                   0\n",
       "2120 2018-06-01 04:41:00      6                 9.0                   6           1.000000          0.0                   0\n",
       "2121 2018-06-01 05:11:00      6                 9.5                   7           1.000000          0.0                   0\n",
       "2122 2018-06-01 05:41:00      6                10.0                   2           1.000000          0.0                   0\n",
       "\n",
       "[2123 rows x 7 columns]"
      ]
     },
     "execution_count": 639,
     "metadata": {},
     "output_type": "execute_result"
    }
   ],
   "source": [
    "# Now check for otlier data:\n",
    "print(\"\\nCheck for outlier data.\")\n",
    "cf.show_outlier_data(bat_data_clean, \"Dataset 1\")\n",
    "cf.show_outlier_data(rat_data_clean, \"Dataset 2\")"
   ]
  },
  {
   "cell_type": "code",
   "execution_count": 640,
   "id": "b7f50aa3",
   "metadata": {},
   "outputs": [
    {
     "name": "stdout",
     "output_type": "stream",
     "text": [
      "\n",
      "Handling outliers in Dataset 1:\n",
      "Outliers capped for bat_landing_to_food at [-15.125, 27.875].\n",
      "seconds_after_rat_arrival: No outliers detected.\n",
      "risk: No outliers detected.\n",
      "reward: No outliers detected.\n",
      "Outliers capped for month at [2.5, 6.5].\n",
      "hours_after_sunset: No outliers detected.\n",
      "Outliers capped for season at [1.0, 1.0].\n",
      "Outlier handling complete.\n",
      "\n",
      "\n",
      "Handling outliers in Dataset 2:\n",
      "month: No outliers detected.\n",
      "hours_after_sunset: No outliers detected.\n",
      "Outliers capped for bat_landing_number at [-44.5, 103.5].\n",
      "Outliers capped for food_availability at [0.2467070082499998, 4.82137199025].\n",
      "Outliers capped for rat_minutes at [-0.23750000025, 0.39583333375].\n",
      "Outliers capped for rat_arrival_number at [-1.5, 2.5].\n",
      "Outlier handling complete.\n",
      "\n"
     ]
    }
   ],
   "source": [
    "# Now handle outliers data:\n",
    "bat_data_clean = cf.handle_outliers(bat_data_clean, \"Dataset 1\", method=\"cap\")\n",
    "rat_data_clean = cf.handle_outliers(rat_data_clean, \"Dataset 2\", method=\"cap\")\n"
   ]
  },
  {
   "cell_type": "code",
   "execution_count": null,
   "id": "40ce915d",
   "metadata": {},
   "outputs": [
    {
     "name": "stdout",
     "output_type": "stream",
     "text": [
      "pick_rat  -->  rat_pick\n",
      "94.0,305.0,239.0,416.0; 364.8,139.3,462.3,241.3  -->  invalid\n",
      "rat attack  -->  rat\n",
      "attack_rat  -->  rat\n",
      "rat_attack  -->  rat\n",
      "other_bats  -->  other\n",
      "rat_pick  -->  rat_pick\n",
      "other_bats  -->  other\n",
      "other_bat  -->  other\n",
      "other_bats  -->  other\n",
      "other_bats  -->  other\n",
      "373.0,80.0,504.0,148.0; 274.6,110.7,382.4,267.3  -->  invalid\n",
      "245.6,179.5,321.4,314.0; 522.4,0.3,592.0,95.5  -->  invalid\n",
      "405.6,112.3,513.1,215.4; 464.1,197.7,614.9,334.3; 511.5,301.1,639.4,388.9  -->  invalid\n",
      "187.0,152.0,304.0,240.0; 567.9,88.6,621.1,140.3  -->  invalid\n",
      "44.0,77.0,157.0,240.0; 253.0,96.0,346.0,147.0  -->  invalid\n",
      "397.7,159.7,580.2,330.5; 252.0,92.0,346.0,149.0  -->  invalid\n",
      "218.0,171.0,381.0,269.0; 239.0,106.0,315.0,155.0  -->  invalid\n",
      "423.0,155.9,535.6,370.9; 238.0,99.0,314.0,160.0  -->  invalid\n",
      "bat_figiht  -->  bat_fight\n",
      "415.0,86.5,559.2,140.2; 66.0,157.0,285.0,279.0  -->  invalid\n",
      "others  -->  other\n",
      "157.0,2.6,349.0,159.3; 572.1,275.7,638.3,360.0  -->  invalid\n",
      "530.0,20.0,611.0,156.0; 227.6,128.8,290.8,208.0  -->  invalid\n",
      "rat_pick  -->  rat_pick\n",
      "rat_pick  -->  rat_pick\n",
      "other_bats  -->  other\n",
      "other_bats  -->  other\n",
      "others  -->  other\n",
      "others  -->  other\n",
      "others  -->  other\n",
      "others  -->  other\n",
      "243.6,235.6,432.2,329.8; 559.0,244.0,622.0,395.0  -->  invalid\n",
      "other_bats  -->  other\n",
      "rat_pick  -->  rat_pick\n",
      "511.7,236.3,632.2,404.5; 445.0,199.0,503.0,245.0  -->  invalid\n",
      "417.7,117.1,635.5,346.0; 243.0,272.0,308.0,379.0; 438.0,230.0,494.0,291.0  -->  invalid\n",
      "rat_pick  -->  rat_pick\n",
      "rat_pick  -->  rat_pick\n",
      "rat_pick  -->  rat_pick\n",
      "rat_pick  -->  rat_pick\n",
      "rat_pick  -->  rat_pick\n",
      "rat_pick  -->  rat_pick\n",
      "rat_pick  -->  rat_pick\n",
      "380.6,321.1,550.6,477.5; 263.0,267.0,421.0,435.0  -->  invalid\n",
      "pick_rat  -->  rat_pick\n",
      "rat_pick  -->  rat_pick\n",
      "pick_rat  -->  rat_pick\n",
      "rat_pick  -->  rat_pick\n",
      "rat_pick  -->  rat_pick\n",
      "501.0,358.4,636.2,423.4; 476.0,103.0,634.0,206.0  -->  invalid\n",
      "pick_rat  -->  rat_pick\n"
     ]
    }
   ],
   "source": [
    "#Manually handle bad data in habit in dataset 1.\n",
    "print(\"Manually handle bad data in habit coloumn of dataset 1.\")\n",
    "bat_data_clean[\"habit\"] = bat_data_clean[\"habit\"].apply(cf.clean_habit)\n"
   ]
  }
 ],
 "metadata": {
  "kernelspec": {
   "display_name": "python Bat Vs Rat",
   "language": "python",
   "name": "bat-vs-rat"
  },
  "language_info": {
   "codemirror_mode": {
    "name": "ipython",
    "version": 3
   },
   "file_extension": ".py",
   "mimetype": "text/x-python",
   "name": "python",
   "nbconvert_exporter": "python",
   "pygments_lexer": "ipython3",
   "version": "3.13.5"
  }
 },
 "nbformat": 4,
 "nbformat_minor": 5
}
