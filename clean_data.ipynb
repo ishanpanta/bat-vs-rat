{
 "cells": [
  {
   "cell_type": "code",
   "execution_count": 161,
   "id": "973bbdd1",
   "metadata": {},
   "outputs": [],
   "source": [
    "\"\"\"Check and clean the data here.\"\"\"\n",
    "import pandas as pd\n",
    "import importlib\n",
    "import clean_function as cf\n",
    "\n",
    "importlib.reload(cf)\n",
    "\n",
    "import pandas as pd\n",
    "\n",
    "pd.set_option(\"display.expand_frame_repr\", False)\n",
    "pd.set_option(\"display.max_columns\", None)   # show all columns\n",
    "pd.set_option(\"display.width\", None)         # don't wrap lines\n",
    "\n"
   ]
  },
  {
   "cell_type": "code",
   "execution_count": 162,
   "id": "226584c7",
   "metadata": {},
   "outputs": [],
   "source": [
    "\n",
    "bat_data=cf.read_data(\"dataset1.csv\")\n",
    "rat_data=cf.read_data(\"dataset2.csv\")"
   ]
  },
  {
   "cell_type": "code",
   "execution_count": 163,
   "id": "a9b7f41d",
   "metadata": {},
   "outputs": [
    {
     "name": "stdout",
     "output_type": "stream",
     "text": [
      "\n",
      "Checking value for DataSet 1:\n",
      "         start_time  bat_landing_to_food habit  rat_period_start    rat_period_end  seconds_after_rat_arrival  risk  reward  month       sunset_time  hours_after_sunset  season\n",
      "0  30/12/2017 18:37            16.000000   rat  30/12/2017 18:35  30/12/2017 18:38                        108     1       0      0  30/12/2017 16:45            1.870833       0\n",
      "1  30/12/2017 19:51             0.074016  fast  30/12/2017 19:50  30/12/2017 19:55                         17     0       1      0  30/12/2017 16:45            3.100833       0\n",
      "2  30/12/2017 19:51             4.000000  fast  30/12/2017 19:50  30/12/2017 19:55                         41     0       1      0  30/12/2017 16:45            3.107500       0\n",
      "3  30/12/2017 19:52            10.000000   rat  30/12/2017 19:50  30/12/2017 19:55                        111     1       0      0  30/12/2017 16:45            3.126944       0\n",
      "4  30/12/2017 19:54            15.000000   rat  30/12/2017 19:50  30/12/2017 19:55                        194     1       0      0  30/12/2017 16:45            3.150000       0\n",
      "\n",
      "Checking value for DataSet 2:\n",
      "               time  month  hours_after_sunset  bat_landing_number  food_availability  rat_minutes  rat_arrival_number\n",
      "0  26/12/2017 16:13      0                -0.5                  20           4.000000          0.0                   0\n",
      "1  26/12/2017 16:43      0                 0.0                  28           4.000000          0.0                   0\n",
      "2  26/12/2017 17:13      0                 0.5                  25           4.000000          0.0                   0\n",
      "3  26/12/2017 17:43      0                 1.0                  71           4.000000          0.0                   0\n",
      "4  26/12/2017 18:13      0                 1.5                  44           3.753857          0.0                   0\n"
     ]
    }
   ],
   "source": [
    "cf.check_few_values(bat_data, \"DataSet 1\")\n",
    "cf.check_few_values(rat_data, \"DataSet 2\")"
   ]
  },
  {
   "cell_type": "code",
   "execution_count": 164,
   "id": "b1b0edcf",
   "metadata": {},
   "outputs": [
    {
     "name": "stdout",
     "output_type": "stream",
     "text": [
      "\n",
      "Check missing value and datatype in DataSet 1\n",
      "Column: start_time, dtype: object missing: 0 (0.0%)\n",
      "Column: bat_landing_to_food, dtype: float64 missing: 0 (0.0%)\n",
      "Column: habit, dtype: object missing: 41 (4.5%)\n",
      "Column: rat_period_start, dtype: object missing: 0 (0.0%)\n",
      "Column: rat_period_end, dtype: object missing: 0 (0.0%)\n",
      "Column: seconds_after_rat_arrival, dtype: int64 missing: 0 (0.0%)\n",
      "Column: risk, dtype: int64 missing: 0 (0.0%)\n",
      "Column: reward, dtype: int64 missing: 0 (0.0%)\n",
      "Column: month, dtype: int64 missing: 0 (0.0%)\n",
      "Column: sunset_time, dtype: object missing: 0 (0.0%)\n",
      "Column: hours_after_sunset, dtype: float64 missing: 0 (0.0%)\n",
      "Column: season, dtype: int64 missing: 0 (0.0%)\n",
      "\n",
      "Check missing value and datatype in DataSet 2\n",
      "Column: time, dtype: object missing: 0 (0.0%)\n",
      "Column: month, dtype: int64 missing: 0 (0.0%)\n",
      "Column: hours_after_sunset, dtype: float64 missing: 0 (0.0%)\n",
      "Column: bat_landing_number, dtype: int64 missing: 0 (0.0%)\n",
      "Column: food_availability, dtype: float64 missing: 0 (0.0%)\n",
      "Column: rat_minutes, dtype: float64 missing: 0 (0.0%)\n",
      "Column: rat_arrival_number, dtype: int64 missing: 0 (0.0%)\n"
     ]
    }
   ],
   "source": [
    "# Check missing values in percentage and also find the datatypes.\n",
    "print(\"\\nCheck missing value and datatype in DataSet 1\")\n",
    "for col in bat_data.columns:\n",
    "    cf.missing_values_and_datatype_find(bat_data, col)\n",
    "\n",
    "print(\"\\nCheck missing value and datatype in DataSet 2\") \n",
    "for col in rat_data.columns:\n",
    "    cf.missing_values_and_datatype_find(rat_data,  col)"
   ]
  },
  {
   "cell_type": "code",
   "execution_count": 165,
   "id": "03005dc9",
   "metadata": {},
   "outputs": [
    {
     "name": "stdout",
     "output_type": "stream",
     "text": [
      "\n",
      "Datetime conversion result for DataSet 1\n",
      "start_time:Converted to datetime\n",
      "habit:Not a datetime column.\n",
      "rat_period_start:Converted to datetime\n",
      "rat_period_end:Converted to datetime\n",
      "sunset_time:Converted to datetime\n",
      "\n",
      "Datetime conversion result for DataSet 2\n",
      "time:Converted to datetime\n"
     ]
    }
   ],
   "source": [
    "# Detect and convert object to datetime.\n",
    "# Seperate orginal data with clean data.\n",
    "bat_data_clean = cf.detect_and_convert_datetime(bat_data, \"DataSet 1\")\n",
    "rat_data_clean = cf.detect_and_convert_datetime(rat_data, \"DataSet 2\")"
   ]
  },
  {
   "cell_type": "code",
   "execution_count": 166,
   "id": "c77dd02e",
   "metadata": {},
   "outputs": [
    {
     "name": "stdout",
     "output_type": "stream",
     "text": [
      "\n",
      "Numeric conversion result for DataSet 1\n",
      "habit:Not a numeric column.\n",
      "\n",
      "Numeric conversion result for DataSet 2\n"
     ]
    }
   ],
   "source": [
    "# Detect and convert object to numeric datatype.\n",
    "bat_data_clean = cf.detect_and_convert_number(bat_data_clean, \"DataSet 1\")\n",
    "rat_data_clean = cf.detect_and_convert_number(rat_data_clean, \"DataSet 2\")"
   ]
  },
  {
   "cell_type": "code",
   "execution_count": 167,
   "id": "6dc48af3",
   "metadata": {},
   "outputs": [
    {
     "name": "stdout",
     "output_type": "stream",
     "text": [
      "\n",
      " Summary of Dataset 1:\n",
      "int64             5\n",
      "datetime64[ns]    4\n",
      "float64           2\n",
      "object            1\n",
      "Name: count, dtype: int64\n",
      "\n",
      "Detailed View:\n",
      "start_time                   datetime64[ns]\n",
      "bat_landing_to_food                 float64\n",
      "habit                                object\n",
      "rat_period_start             datetime64[ns]\n",
      "rat_period_end               datetime64[ns]\n",
      "seconds_after_rat_arrival             int64\n",
      "risk                                  int64\n",
      "reward                                int64\n",
      "month                                 int64\n",
      "sunset_time                  datetime64[ns]\n",
      "hours_after_sunset                  float64\n",
      "season                                int64\n",
      "dtype: object\n",
      "\n",
      " Summary of Dataset 2:\n",
      "int64             3\n",
      "float64           3\n",
      "datetime64[ns]    1\n",
      "Name: count, dtype: int64\n",
      "\n",
      "Detailed View:\n",
      "time                  datetime64[ns]\n",
      "month                          int64\n",
      "hours_after_sunset           float64\n",
      "bat_landing_number             int64\n",
      "food_availability            float64\n",
      "rat_minutes                  float64\n",
      "rat_arrival_number             int64\n",
      "dtype: object\n"
     ]
    }
   ],
   "source": [
    "cf.datatype_conversion_summary(bat_data_clean, \"Dataset 1\")\n",
    "cf.datatype_conversion_summary(rat_data_clean, \"Dataset 2\")"
   ]
  },
  {
   "cell_type": "code",
   "execution_count": 168,
   "id": "f737e6d8",
   "metadata": {},
   "outputs": [
    {
     "name": "stdout",
     "output_type": "stream",
     "text": [
      "\n",
      "Check missing value and datatype in DataSet 1\n",
      "Column: start_time, dtype: datetime64[ns] missing: 0 (0.0%)\n",
      "Column: bat_landing_to_food, dtype: float64 missing: 0 (0.0%)\n",
      "Column: habit, dtype: object missing: 41 (4.5%)\n",
      "Column: rat_period_start, dtype: datetime64[ns] missing: 0 (0.0%)\n",
      "Column: rat_period_end, dtype: datetime64[ns] missing: 0 (0.0%)\n",
      "Column: seconds_after_rat_arrival, dtype: int64 missing: 0 (0.0%)\n",
      "Column: risk, dtype: int64 missing: 0 (0.0%)\n",
      "Column: reward, dtype: int64 missing: 0 (0.0%)\n",
      "Column: month, dtype: int64 missing: 0 (0.0%)\n",
      "Column: sunset_time, dtype: datetime64[ns] missing: 0 (0.0%)\n",
      "Column: hours_after_sunset, dtype: float64 missing: 0 (0.0%)\n",
      "Column: season, dtype: int64 missing: 0 (0.0%)\n",
      "\n",
      "Check missing value and datatype in DataSet 2\n",
      "Column: time, dtype: datetime64[ns] missing: 0 (0.0%)\n",
      "Column: month, dtype: int64 missing: 0 (0.0%)\n",
      "Column: hours_after_sunset, dtype: float64 missing: 0 (0.0%)\n",
      "Column: bat_landing_number, dtype: int64 missing: 0 (0.0%)\n",
      "Column: food_availability, dtype: float64 missing: 0 (0.0%)\n",
      "Column: rat_minutes, dtype: float64 missing: 0 (0.0%)\n",
      "Column: rat_arrival_number, dtype: int64 missing: 0 (0.0%)\n"
     ]
    }
   ],
   "source": [
    "# Check missing values in percentage and also find the datatypes.\n",
    "print(\"\\nCheck missing value and datatype in DataSet 1\")\n",
    "for col in bat_data.columns:\n",
    "    cf.missing_values_and_datatype_find(bat_data_clean, col)\n",
    "\n",
    "print(\"\\nCheck missing value and datatype in DataSet 2\") \n",
    "for col in rat_data.columns:\n",
    "    cf.missing_values_and_datatype_find(rat_data_clean,  col)"
   ]
  },
  {
   "cell_type": "code",
   "execution_count": 169,
   "id": "c5da739b",
   "metadata": {},
   "outputs": [
    {
     "name": "stdout",
     "output_type": "stream",
     "text": [
      "\n",
      "Handling missing data in: Dataset 2\n",
      "No missing data in Dataset 2\n",
      "\n",
      "Handling missing data in: Dataset 1\n",
      "Missing in habit filled with mode = fast\n"
     ]
    }
   ],
   "source": [
    "# Now handle missing values using median and mode.\n",
    "rat_data_clean = cf.handle_missing_values(rat_data_clean,\"Dataset 2\")\n",
    "bat_data_clean = cf.handle_missing_values(bat_data_clean, \"Dataset 1\")"
   ]
  },
  {
   "cell_type": "code",
   "execution_count": 170,
   "id": "b7a33494",
   "metadata": {},
   "outputs": [
    {
     "name": "stdout",
     "output_type": "stream",
     "text": [
      "\n",
      "Check missing value and datatype in DataSet 1\n",
      "Column: start_time, dtype: datetime64[ns] missing: 0 (0.0%)\n",
      "Column: bat_landing_to_food, dtype: float64 missing: 0 (0.0%)\n",
      "Column: habit, dtype: object missing: 0 (0.0%)\n",
      "Column: rat_period_start, dtype: datetime64[ns] missing: 0 (0.0%)\n",
      "Column: rat_period_end, dtype: datetime64[ns] missing: 0 (0.0%)\n",
      "Column: seconds_after_rat_arrival, dtype: int64 missing: 0 (0.0%)\n",
      "Column: risk, dtype: int64 missing: 0 (0.0%)\n",
      "Column: reward, dtype: int64 missing: 0 (0.0%)\n",
      "Column: month, dtype: int64 missing: 0 (0.0%)\n",
      "Column: sunset_time, dtype: datetime64[ns] missing: 0 (0.0%)\n",
      "Column: hours_after_sunset, dtype: float64 missing: 0 (0.0%)\n",
      "Column: season, dtype: int64 missing: 0 (0.0%)\n",
      "\n",
      "Check missing value and datatype in DataSet 2\n",
      "Column: time, dtype: datetime64[ns] missing: 0 (0.0%)\n",
      "Column: month, dtype: int64 missing: 0 (0.0%)\n",
      "Column: hours_after_sunset, dtype: float64 missing: 0 (0.0%)\n",
      "Column: bat_landing_number, dtype: int64 missing: 0 (0.0%)\n",
      "Column: food_availability, dtype: float64 missing: 0 (0.0%)\n",
      "Column: rat_minutes, dtype: float64 missing: 0 (0.0%)\n",
      "Column: rat_arrival_number, dtype: int64 missing: 0 (0.0%)\n"
     ]
    }
   ],
   "source": [
    "# Check missing values if any after handling the data .\n",
    "print(\"\\nCheck missing value and datatype in DataSet 1\")\n",
    "for col in bat_data.columns:\n",
    "    cf.missing_values_and_datatype_find(bat_data, col)\n",
    "\n",
    "print(\"\\nCheck missing value and datatype in DataSet 2\") \n",
    "for col in rat_data.columns:\n",
    "    cf.missing_values_and_datatype_find(rat_data,  col)"
   ]
  },
  {
   "cell_type": "code",
   "execution_count": 171,
   "id": "3150cf9e",
   "metadata": {},
   "outputs": [
    {
     "name": "stdout",
     "output_type": "stream",
     "text": [
      "\n",
      "Check for duplicate data and fix/ remove them.\n",
      "\n",
      "Finding duplicate data in: Dataset 1\n",
      "Found 2 duplicate rows:\n",
      "\n",
      "             start_time  bat_landing_to_food      habit    rat_period_start      rat_period_end  seconds_after_rat_arrival  risk  reward  month         sunset_time  hours_after_sunset  season\n",
      "563 2018-04-28 00:10:00                  5.0  bat_fight 2018-04-28 00:04:00 2018-04-28 00:14:00                        365     1       0      4 2018-04-27 19:18:00            4.882778       1\n",
      "564 2018-04-28 00:10:00                  5.0  bat_fight 2018-04-28 00:04:00 2018-04-28 00:14:00                        365     1       0      4 2018-04-27 19:18:00            4.882778       1\n",
      "\n",
      "Finding duplicate data in: Dataset 2\n",
      "No duplicates found\n"
     ]
    }
   ],
   "source": [
    "# Now check for dublicate data:\n",
    "print(\"\\nCheck for duplicate data and fix/ remove them.\")\n",
    "bat_data_clean = cf.show_duplicate_data(bat_data_clean, \"Dataset 1\")\n",
    "rat_data_clean = cf.show_duplicate_data(rat_data_clean, \"Dataset 2\")"
   ]
  },
  {
   "cell_type": "code",
   "execution_count": 172,
   "id": "04c4b9bb",
   "metadata": {},
   "outputs": [
    {
     "name": "stdout",
     "output_type": "stream",
     "text": [
      "\n",
      "Check for duplicate data and fix/ remove them.\n",
      "\n",
      "Handling duplicate data in: Dataset 1\n",
      "Found 1 duplicate rows\n",
      "Removed 1 duplicates\n",
      "\n",
      "Handling duplicate data in: Dataset 2\n",
      "Found 0 duplicate rows\n",
      "No duplicates found\n",
      "\n",
      "Finding duplicate data in: Dataset 1\n",
      "No duplicates found\n",
      "\n",
      "Finding duplicate data in: Dataset 2\n",
      "No duplicates found\n"
     ]
    }
   ],
   "source": [
    "# Now handle  dublicate data:\n",
    "print(\"\\nCheck for duplicate data and fix/ remove them.\")\n",
    "bat_data_clean = cf.handle_duplicates(bat_data_clean, \"Dataset 1\")\n",
    "rat_data_clean = cf.handle_duplicates(rat_data_clean, \"Dataset 2\")\n",
    "bat_data_clean = cf.show_duplicate_data(bat_data_clean, \"Dataset 1\")\n",
    "rat_data_clean = cf.show_duplicate_data(rat_data_clean, \"Dataset 2\")"
   ]
  },
  {
   "cell_type": "code",
   "execution_count": null,
   "id": "38c4aeba",
   "metadata": {},
   "outputs": [
    {
     "name": "stdout",
     "output_type": "stream",
     "text": [
      "Manually convert categorrical coloumn in Dataset 1:\n"
     ]
    }
   ],
   "source": [
    "print(\"Manually convert categorrical coloumn in Dataset 1:\")\n",
    "bat_data_clean = cf.convert_to_category(bat_data_clean, [\"month\", \"season\",\"habit\"])\n"
   ]
  },
  {
   "cell_type": "code",
   "execution_count": null,
   "id": "4ac49f0d",
   "metadata": {},
   "outputs": [
    {
     "name": "stdout",
     "output_type": "stream",
     "text": [
      "Manually convert categorrical coloumn in Dataset 1:\n"
     ]
    }
   ],
   "source": [
    "print(\"Manually convert categorrical coloumn in Dataset 2:\")\n",
    "rat_data_clean = cf.convert_to_category(rat_data_clean, [\"month\"])"
   ]
  }
 ],
 "metadata": {
  "kernelspec": {
   "display_name": "python Bat Vs Rat",
   "language": "python",
   "name": "bat-vs-rat"
  },
  "language_info": {
   "codemirror_mode": {
    "name": "ipython",
    "version": 3
   },
   "file_extension": ".py",
   "mimetype": "text/x-python",
   "name": "python",
   "nbconvert_exporter": "python",
   "pygments_lexer": "ipython3",
   "version": "3.13.5"
  }
 },
 "nbformat": 4,
 "nbformat_minor": 5
}
