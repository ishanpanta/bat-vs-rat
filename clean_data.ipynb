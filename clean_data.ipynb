{
 "cells": [
  {
   "cell_type": "code",
   "execution_count": 84,
   "id": "973bbdd1",
   "metadata": {},
   "outputs": [
    {
     "data": {
      "text/plain": [
       "<module 'clean_function' from 'c:\\\\GitHub\\\\bat-vs-rat\\\\clean_function.py'>"
      ]
     },
     "execution_count": 84,
     "metadata": {},
     "output_type": "execute_result"
    }
   ],
   "source": [
    "\"\"\"Check and clean the data here.\"\"\"\n",
    "import pandas as pd\n",
    "import importlib\n",
    "import clean_function as cf\n",
    "\n",
    "importlib.reload(cf)\n"
   ]
  },
  {
   "cell_type": "code",
   "execution_count": 85,
   "id": "226584c7",
   "metadata": {},
   "outputs": [],
   "source": [
    "\n",
    "bat_data=cf.read_data(\"dataset1.csv\")\n",
    "rat_data=cf.read_data(\"dataset2.csv\")"
   ]
  },
  {
   "cell_type": "code",
   "execution_count": null,
   "id": "a9b7f41d",
   "metadata": {},
   "outputs": [],
   "source": [
    "cf.check_few_values(bat_data)"
   ]
  },
  {
   "cell_type": "code",
   "execution_count": 86,
   "id": "b1b0edcf",
   "metadata": {},
   "outputs": [
    {
     "name": "stdout",
     "output_type": "stream",
     "text": [
      "\n",
      "Missing values in dataset 1:\n"
     ]
    },
    {
     "ename": "TypeError",
     "evalue": "unsupported format string passed to Series.__format__",
     "output_type": "error",
     "traceback": [
      "\u001b[1;31m---------------------------------------------------------------------------\u001b[0m",
      "\u001b[1;31mTypeError\u001b[0m                                 Traceback (most recent call last)",
      "Cell \u001b[1;32mIn[86], line 2\u001b[0m\n\u001b[0;32m      1\u001b[0m \u001b[38;5;66;03m# Check missing values.\u001b[39;00m\n\u001b[1;32m----> 2\u001b[0m cf\u001b[38;5;241m.\u001b[39mmissing_values_find(bat_data, \u001b[38;5;124m\"\u001b[39m\u001b[38;5;124mdataset 1\u001b[39m\u001b[38;5;124m\"\u001b[39m)\n\u001b[0;32m      3\u001b[0m cf\u001b[38;5;241m.\u001b[39mmissing_values_find(rat_data, \u001b[38;5;124m\"\u001b[39m\u001b[38;5;124mdataset 2\u001b[39m\u001b[38;5;124m\"\u001b[39m)\n",
      "File \u001b[1;32mc:\\GitHub\\bat-vs-rat\\clean_function.py:16\u001b[0m, in \u001b[0;36mmissing_values_find\u001b[1;34m(df, name)\u001b[0m\n\u001b[0;32m     14\u001b[0m \u001b[38;5;28mprint\u001b[39m(\u001b[38;5;124mf\u001b[39m\u001b[38;5;124m\"\u001b[39m\u001b[38;5;130;01m\\n\u001b[39;00m\u001b[38;5;124mMissing values in \u001b[39m\u001b[38;5;132;01m{\u001b[39;00mname\u001b[38;5;132;01m}\u001b[39;00m\u001b[38;5;124m:\u001b[39m\u001b[38;5;124m\"\u001b[39m)\n\u001b[0;32m     15\u001b[0m \u001b[38;5;28mprint\u001b[39m(df\u001b[38;5;241m.\u001b[39misna()\u001b[38;5;241m.\u001b[39msum())\n\u001b[1;32m---> 16\u001b[0m \u001b[38;5;28mprint\u001b[39m(\u001b[38;5;124m\"\u001b[39m\u001b[38;5;124mmissing:\u001b[39m\u001b[38;5;124m\"\u001b[39m, missing, \u001b[38;5;124mf\u001b[39m\u001b[38;5;124m\"\u001b[39m\u001b[38;5;124m(\u001b[39m\u001b[38;5;132;01m{\u001b[39;00mmissing\u001b[38;5;241m/\u001b[39m\u001b[38;5;28mlen\u001b[39m(df)\u001b[38;5;132;01m:\u001b[39;00m\u001b[38;5;124m.1%\u001b[39m\u001b[38;5;132;01m}\u001b[39;00m\u001b[38;5;124m)\u001b[39m\u001b[38;5;124m\"\u001b[39m)\n",
      "\u001b[1;31mTypeError\u001b[0m: unsupported format string passed to Series.__format__"
     ]
    }
   ],
   "source": [
    "# Check missing values.\n",
    "cf.missing_values_find(bat_data, \"dataset 1\")\n",
    "cf.missing_values_find(rat_data, \"dataset 2\")"
   ]
  }
 ],
 "metadata": {
  "kernelspec": {
   "display_name": "python Bat Vs Rat",
   "language": "python",
   "name": "bat-vs-rat"
  },
  "language_info": {
   "codemirror_mode": {
    "name": "ipython",
    "version": 3
   },
   "file_extension": ".py",
   "mimetype": "text/x-python",
   "name": "python",
   "nbconvert_exporter": "python",
   "pygments_lexer": "ipython3",
   "version": "3.13.5"
  }
 },
 "nbformat": 4,
 "nbformat_minor": 5
}
