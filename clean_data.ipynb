{
 "cells": [
  {
   "cell_type": "code",
   "execution_count": 109,
   "id": "973bbdd1",
   "metadata": {},
   "outputs": [
    {
     "data": {
      "text/plain": [
       "<module 'clean_function' from 'c:\\\\GitHub\\\\bat-vs-rat\\\\clean_function.py'>"
      ]
     },
     "execution_count": 109,
     "metadata": {},
     "output_type": "execute_result"
    }
   ],
   "source": [
    "\"\"\"Check and clean the data here.\"\"\"\n",
    "import pandas as pd\n",
    "import importlib\n",
    "import clean_function as cf\n",
    "\n",
    "importlib.reload(cf)\n"
   ]
  },
  {
   "cell_type": "code",
   "execution_count": 110,
   "id": "226584c7",
   "metadata": {},
   "outputs": [],
   "source": [
    "\n",
    "bat_data=cf.read_data(\"dataset1.csv\")\n",
    "rat_data=cf.read_data(\"dataset2.csv\")"
   ]
  },
  {
   "cell_type": "code",
   "execution_count": null,
   "id": "a9b7f41d",
   "metadata": {},
   "outputs": [],
   "source": [
    "cf.check_few_values(bat_data, \"DataSet 1\")\n",
    "cf.check_few_values(rat_data, \"DataSet 2\")"
   ]
  },
  {
   "cell_type": "code",
   "execution_count": null,
   "id": "b1b0edcf",
   "metadata": {},
   "outputs": [
    {
     "name": "stdout",
     "output_type": "stream",
     "text": [
      "\n",
      "Check missing value in DataSet 1\n"
     ]
    },
    {
     "ename": "TypeError",
     "evalue": "missing_values_find() missing 1 required positional argument: 'col'",
     "output_type": "error",
     "traceback": [
      "\u001b[1;31m---------------------------------------------------------------------------\u001b[0m",
      "\u001b[1;31mTypeError\u001b[0m                                 Traceback (most recent call last)",
      "Cell \u001b[1;32mIn[112], line 4\u001b[0m\n\u001b[0;32m      2\u001b[0m \u001b[38;5;28mprint\u001b[39m(\u001b[38;5;124m\"\u001b[39m\u001b[38;5;130;01m\\n\u001b[39;00m\u001b[38;5;124mCheck missing value in DataSet 1\u001b[39m\u001b[38;5;124m\"\u001b[39m)\n\u001b[0;32m      3\u001b[0m \u001b[38;5;28;01mfor\u001b[39;00m col \u001b[38;5;129;01min\u001b[39;00m bat_data\u001b[38;5;241m.\u001b[39mcolumns:\n\u001b[1;32m----> 4\u001b[0m     cf\u001b[38;5;241m.\u001b[39mmissing_values_find(bat_data, col)\n\u001b[0;32m      6\u001b[0m \u001b[38;5;28mprint\u001b[39m(\u001b[38;5;124m\"\u001b[39m\u001b[38;5;130;01m\\n\u001b[39;00m\u001b[38;5;124mCheck missing value in DataSet 2\u001b[39m\u001b[38;5;124m\"\u001b[39m) \n\u001b[0;32m      7\u001b[0m \u001b[38;5;28;01mfor\u001b[39;00m col \u001b[38;5;129;01min\u001b[39;00m bat_data\u001b[38;5;241m.\u001b[39mcolumns:\n",
      "\u001b[1;31mTypeError\u001b[0m: missing_values_find() missing 1 required positional argument: 'col'"
     ]
    }
   ],
   "source": [
    "# Check missing values.\n",
    "print(\"\\nCheck missing value in DataSet 1\")\n",
    "for col in bat_data.columns:\n",
    "    cf.missing_values_find(bat_data, col)\n",
    "\n",
    "print(\"\\nCheck missing value in DataSet 2\") \n",
    "for col in rat_data.columns:\n",
    "    cf.missing_values_find(rat_data,  col)"
   ]
  }
 ],
 "metadata": {
  "kernelspec": {
   "display_name": "python Bat Vs Rat",
   "language": "python",
   "name": "bat-vs-rat"
  },
  "language_info": {
   "codemirror_mode": {
    "name": "ipython",
    "version": 3
   },
   "file_extension": ".py",
   "mimetype": "text/x-python",
   "name": "python",
   "nbconvert_exporter": "python",
   "pygments_lexer": "ipython3",
   "version": "3.13.5"
  }
 },
 "nbformat": 4,
 "nbformat_minor": 5
}
