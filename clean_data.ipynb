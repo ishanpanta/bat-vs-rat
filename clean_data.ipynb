{
 "cells": [
  {
   "cell_type": "code",
   "execution_count": 158,
   "id": "973bbdd1",
   "metadata": {},
   "outputs": [
    {
     "data": {
      "text/plain": [
       "<module 'clean_function' from 'c:\\\\GitHub\\\\bat-vs-rat\\\\clean_function.py'>"
      ]
     },
     "execution_count": 158,
     "metadata": {},
     "output_type": "execute_result"
    }
   ],
   "source": [
    "\"\"\"Check and clean the data here.\"\"\"\n",
    "import pandas as pd\n",
    "import importlib\n",
    "import clean_function as cf\n",
    "\n",
    "importlib.reload(cf)\n"
   ]
  },
  {
   "cell_type": "code",
   "execution_count": 159,
   "id": "226584c7",
   "metadata": {},
   "outputs": [],
   "source": [
    "\n",
    "bat_data=cf.read_data(\"dataset1.csv\")\n",
    "rat_data=cf.read_data(\"dataset2.csv\")"
   ]
  },
  {
   "cell_type": "code",
   "execution_count": 160,
   "id": "a9b7f41d",
   "metadata": {},
   "outputs": [
    {
     "name": "stdout",
     "output_type": "stream",
     "text": [
      "\n",
      "Checking value for DataSet 1:\n",
      "         start_time  bat_landing_to_food habit  rat_period_start  \\\n",
      "0  30/12/2017 18:37            16.000000   rat  30/12/2017 18:35   \n",
      "1  30/12/2017 19:51             0.074016  fast  30/12/2017 19:50   \n",
      "2  30/12/2017 19:51             4.000000  fast  30/12/2017 19:50   \n",
      "3  30/12/2017 19:52            10.000000   rat  30/12/2017 19:50   \n",
      "4  30/12/2017 19:54            15.000000   rat  30/12/2017 19:50   \n",
      "\n",
      "     rat_period_end  seconds_after_rat_arrival  risk  reward  month  \\\n",
      "0  30/12/2017 18:38                        108     1       0      0   \n",
      "1  30/12/2017 19:55                         17     0       1      0   \n",
      "2  30/12/2017 19:55                         41     0       1      0   \n",
      "3  30/12/2017 19:55                        111     1       0      0   \n",
      "4  30/12/2017 19:55                        194     1       0      0   \n",
      "\n",
      "        sunset_time  hours_after_sunset  season  \n",
      "0  30/12/2017 16:45            1.870833       0  \n",
      "1  30/12/2017 16:45            3.100833       0  \n",
      "2  30/12/2017 16:45            3.107500       0  \n",
      "3  30/12/2017 16:45            3.126944       0  \n",
      "4  30/12/2017 16:45            3.150000       0  \n",
      "\n",
      "Checking value for DataSet 2:\n",
      "               time  month  hours_after_sunset  bat_landing_number  \\\n",
      "0  26/12/2017 16:13      0                -0.5                  20   \n",
      "1  26/12/2017 16:43      0                 0.0                  28   \n",
      "2  26/12/2017 17:13      0                 0.5                  25   \n",
      "3  26/12/2017 17:43      0                 1.0                  71   \n",
      "4  26/12/2017 18:13      0                 1.5                  44   \n",
      "\n",
      "   food_availability  rat_minutes  rat_arrival_number  \n",
      "0           4.000000          0.0                   0  \n",
      "1           4.000000          0.0                   0  \n",
      "2           4.000000          0.0                   0  \n",
      "3           4.000000          0.0                   0  \n",
      "4           3.753857          0.0                   0  \n"
     ]
    }
   ],
   "source": [
    "cf.check_few_values(bat_data, \"DataSet 1\")\n",
    "cf.check_few_values(rat_data, \"DataSet 2\")"
   ]
  },
  {
   "cell_type": "code",
   "execution_count": 161,
   "id": "b1b0edcf",
   "metadata": {},
   "outputs": [
    {
     "name": "stdout",
     "output_type": "stream",
     "text": [
      "\n",
      "Check missing value and datatype in DataSet 1\n",
      "Column: start_time, dtype: object missing: 0 (0.0%)\n",
      "Column: bat_landing_to_food, dtype: float64 missing: 0 (0.0%)\n",
      "Column: habit, dtype: object missing: 41 (4.5%)\n",
      "Column: rat_period_start, dtype: object missing: 0 (0.0%)\n",
      "Column: rat_period_end, dtype: object missing: 0 (0.0%)\n",
      "Column: seconds_after_rat_arrival, dtype: int64 missing: 0 (0.0%)\n",
      "Column: risk, dtype: int64 missing: 0 (0.0%)\n",
      "Column: reward, dtype: int64 missing: 0 (0.0%)\n",
      "Column: month, dtype: int64 missing: 0 (0.0%)\n",
      "Column: sunset_time, dtype: object missing: 0 (0.0%)\n",
      "Column: hours_after_sunset, dtype: float64 missing: 0 (0.0%)\n",
      "Column: season, dtype: int64 missing: 0 (0.0%)\n",
      "\n",
      "Check missing value and datatype in DataSet 2\n",
      "Column: time, dtype: object missing: 0 (0.0%)\n",
      "Column: month, dtype: int64 missing: 0 (0.0%)\n",
      "Column: hours_after_sunset, dtype: float64 missing: 0 (0.0%)\n",
      "Column: bat_landing_number, dtype: int64 missing: 0 (0.0%)\n",
      "Column: food_availability, dtype: float64 missing: 0 (0.0%)\n",
      "Column: rat_minutes, dtype: float64 missing: 0 (0.0%)\n",
      "Column: rat_arrival_number, dtype: int64 missing: 0 (0.0%)\n"
     ]
    }
   ],
   "source": [
    "# Check missing values in percentage and also find the datatypes.\n",
    "print(\"\\nCheck missing value and datatype in DataSet 1\")\n",
    "for col in bat_data.columns:\n",
    "    cf.missing_values_and_datatype_find(bat_data, col)\n",
    "\n",
    "print(\"\\nCheck missing value and datatype in DataSet 2\") \n",
    "for col in rat_data.columns:\n",
    "    cf.missing_values_and_datatype_find(rat_data,  col)"
   ]
  },
  {
   "cell_type": "code",
   "execution_count": null,
   "id": "03005dc9",
   "metadata": {},
   "outputs": [],
   "source": [
    "# Detect and convert object to datetime.\n",
    "bat_data_clean = cf.detect_and_convert_datetime(bat_data)\n",
    "rat_data_clean = cf.detect_and_convert_datetime(rat_data)"
   ]
  }
 ],
 "metadata": {
  "kernelspec": {
   "display_name": "python Bat Vs Rat",
   "language": "python",
   "name": "bat-vs-rat"
  },
  "language_info": {
   "codemirror_mode": {
    "name": "ipython",
    "version": 3
   },
   "file_extension": ".py",
   "mimetype": "text/x-python",
   "name": "python",
   "nbconvert_exporter": "python",
   "pygments_lexer": "ipython3",
   "version": "3.13.5"
  }
 },
 "nbformat": 4,
 "nbformat_minor": 5
}
