{
 "cells": [
  {
   "cell_type": "code",
   "execution_count": null,
   "id": "973bbdd1",
   "metadata": {},
   "outputs": [],
   "source": [
    "\"\"\"Check and clean the data here.\"\"\"\n",
    "import pandas as pd\n",
    "import importlib\n",
    "import clean_function as cf\n",
    "\n",
    "importlib.reload(cf)\n",
    "\n",
    "import pandas as pd\n",
    "\n",
    "pd.set_option(\"display.expand_frame_repr\", False)\n",
    "pd.set_option(\"display.max_columns\", None)   # show all columns\n",
    "pd.set_option(\"display.width\", None)         # don't wrap lines\n",
    "\n"
   ]
  },
  {
   "cell_type": "code",
   "execution_count": null,
   "id": "226584c7",
   "metadata": {},
   "outputs": [],
   "source": [
    "\n",
    "bat_data=cf.read_data(\"dataset1.csv\")\n",
    "rat_data=cf.read_data(\"dataset2.csv\")"
   ]
  },
  {
   "cell_type": "code",
   "execution_count": null,
   "id": "a9b7f41d",
   "metadata": {},
   "outputs": [],
   "source": [
    "cf.check_few_values(bat_data, \"DataSet 1\")\n",
    "cf.check_few_values(rat_data, \"DataSet 2\")"
   ]
  },
  {
   "cell_type": "code",
   "execution_count": null,
   "id": "b1b0edcf",
   "metadata": {},
   "outputs": [],
   "source": [
    "# Check missing values in percentage and also find the datatypes.\n",
    "print(\"\\nCheck missing value and datatype in DataSet 1\")\n",
    "for col in bat_data.columns:\n",
    "    cf.missing_values_and_datatype_find(bat_data, col)\n",
    "\n",
    "print(\"\\nCheck missing value and datatype in DataSet 2\") \n",
    "for col in rat_data.columns:\n",
    "    cf.missing_values_and_datatype_find(rat_data,  col)"
   ]
  },
  {
   "cell_type": "code",
   "execution_count": null,
   "id": "03005dc9",
   "metadata": {},
   "outputs": [],
   "source": [
    "# Detect and convert object to datetime.\n",
    "# Seperate orginal data with clean data.\n",
    "bat_data_clean = cf.detect_and_convert_datetime(bat_data, \"DataSet 1\")\n",
    "rat_data_clean = cf.detect_and_convert_datetime(rat_data, \"DataSet 2\")"
   ]
  },
  {
   "cell_type": "code",
   "execution_count": null,
   "id": "c77dd02e",
   "metadata": {},
   "outputs": [],
   "source": [
    "# Detect and convert object to numeric datatype.\n",
    "bat_data_clean = cf.detect_and_convert_number(bat_data_clean, \"DataSet 1\")\n",
    "rat_data_clean = cf.detect_and_convert_number(rat_data_clean, \"DataSet 2\")"
   ]
  },
  {
   "cell_type": "code",
   "execution_count": null,
   "id": "6dc48af3",
   "metadata": {},
   "outputs": [],
   "source": [
    "cf.datatype_conversion_summary(bat_data_clean, \"Dataset 1\")\n",
    "cf.datatype_conversion_summary(rat_data_clean, \"Dataset 2\")"
   ]
  },
  {
   "cell_type": "code",
   "execution_count": null,
   "id": "f737e6d8",
   "metadata": {},
   "outputs": [],
   "source": [
    "# Check missing values in percentage and also find the datatypes.\n",
    "print(\"\\nCheck missing value and datatype in DataSet 1\")\n",
    "for col in bat_data.columns:\n",
    "    cf.missing_values_and_datatype_find(bat_data_clean, col)\n",
    "\n",
    "print(\"\\nCheck missing value and datatype in DataSet 2\") \n",
    "for col in rat_data.columns:\n",
    "    cf.missing_values_and_datatype_find(rat_data_clean,  col)"
   ]
  },
  {
   "cell_type": "code",
   "execution_count": null,
   "id": "c5da739b",
   "metadata": {},
   "outputs": [],
   "source": [
    "# Now handle missing values using median and mode.\n",
    "rat_data_clean = cf.handle_missing_values(rat_data_clean,\"Dataset 2\")\n",
    "bat_data_clean = cf.handle_missing_values(bat_data_clean, \"Dataset 1\")"
   ]
  },
  {
   "cell_type": "code",
   "execution_count": null,
   "id": "b7a33494",
   "metadata": {},
   "outputs": [],
   "source": [
    "# Check missing values if any after handling the data .\n",
    "print(\"\\nCheck missing value and datatype in DataSet 1\")\n",
    "for col in bat_data.columns:\n",
    "    cf.missing_values_and_datatype_find(bat_data, col)\n",
    "\n",
    "print(\"\\nCheck missing value and datatype in DataSet 2\") \n",
    "for col in rat_data.columns:\n",
    "    cf.missing_values_and_datatype_find(rat_data,  col)"
   ]
  },
  {
   "cell_type": "code",
   "execution_count": null,
   "id": "3150cf9e",
   "metadata": {},
   "outputs": [],
   "source": [
    "# Now check for dublicate data:\n",
    "print(\"\\nCheck for duplicate data and fix/ remove them.\")\n",
    "cf.show_duplicate_data(bat_data_clean, \"Dataset 1\")\n",
    "cf.show_duplicate_data(rat_data_clean, \"Dataset 2\")"
   ]
  },
  {
   "cell_type": "code",
   "execution_count": null,
   "id": "04c4b9bb",
   "metadata": {},
   "outputs": [],
   "source": [
    "# Now handle  dublicate data:\n",
    "print(\"\\nCheck for duplicate data and fix/ remove them.\")\n",
    "bat_data_clean = cf.handle_duplicates(bat_data_clean, \"Dataset 1\")\n",
    "rat_data_clean = cf.handle_duplicates(rat_data_clean, \"Dataset 2\")\n",
    "cf.show_duplicate_data(bat_data_clean, \"Dataset 1\")\n",
    "cf.show_duplicate_data(rat_data_clean, \"Dataset 2\")"
   ]
  },
  {
   "cell_type": "code",
   "execution_count": null,
   "id": "1b230c05",
   "metadata": {},
   "outputs": [],
   "source": [
    "# Clean text columns into proper format.\n",
    "bat_data_clean= cf.handle_clean_data_format_in_columns(bat_data_clean, name=\"Dataset1\")\n",
    "rat_data_clean= cf.handle_clean_data_format_in_columns(rat_data_clean, name=\"Dataset2\")"
   ]
  },
  {
   "cell_type": "code",
   "execution_count": null,
   "id": "38c4aeba",
   "metadata": {},
   "outputs": [],
   "source": [
    "# Manually convert categorical data.\n",
    "print(\"Manually convert categorrical coloumn in Dataset 1:\")\n",
    "bat_data_clean = cf.convert_to_category(bat_data_clean, [\"month\", \"season\",\"habit\"])\n"
   ]
  },
  {
   "cell_type": "code",
   "execution_count": null,
   "id": "4ac49f0d",
   "metadata": {},
   "outputs": [],
   "source": [
    "print(\"Manually convert categorrical coloumn in Dataset 2:\")\n",
    "rat_data_clean = cf.convert_to_category(rat_data_clean, [\"month\"])"
   ]
  },
  {
   "cell_type": "code",
   "execution_count": null,
   "id": "afc26576",
   "metadata": {},
   "outputs": [],
   "source": [
    "# Now check for otlier data:\n",
    "print(\"\\nCheck for outlier data.\")\n",
    "cf.show_outlier_data(bat_data_clean, \"Dataset 1\")\n",
    "cf.show_outlier_data(rat_data_clean, \"Dataset 2\")"
   ]
  },
  {
   "cell_type": "code",
   "execution_count": null,
   "id": "b7f50aa3",
   "metadata": {},
   "outputs": [],
   "source": [
    "# Now handle outliers data:\n",
    "bat_data_clean = cf.handle_outliers(bat_data_clean, \"Dataset 1\", method=\"cap\")\n",
    "rat_data_clean = cf.handle_outliers(rat_data_clean, \"Dataset 2\", method=\"cap\")\n"
   ]
  },
  {
   "cell_type": "code",
   "execution_count": null,
   "id": "40ce915d",
   "metadata": {},
   "outputs": [],
   "source": [
    "#Manually handle bad data in habit in dataset 1.\n",
    "print(\"Manually handle bad data in habit coloumn of dataset 1.\")\n",
    "bat_data_clean[\"habit\"] = bat_data_clean[\"habit\"].apply(cf.handle_clean_habit)\n"
   ]
  },
  {
   "cell_type": "code",
   "execution_count": null,
   "id": "61c0cbd8",
   "metadata": {},
   "outputs": [],
   "source": []
  }
 ],
 "metadata": {
  "kernelspec": {
   "display_name": "python Bat Vs Rat",
   "language": "python",
   "name": "bat-vs-rat"
  },
  "language_info": {
   "codemirror_mode": {
    "name": "ipython",
    "version": 3
   },
   "file_extension": ".py",
   "mimetype": "text/x-python",
   "name": "python",
   "nbconvert_exporter": "python",
   "pygments_lexer": "ipython3",
   "version": "3.13.5"
  }
 },
 "nbformat": 4,
 "nbformat_minor": 5
}
