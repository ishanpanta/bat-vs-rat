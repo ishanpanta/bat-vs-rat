{
 "cells": [
  {
   "cell_type": "code",
   "execution_count": null,
   "id": "a1f08d7b",
   "metadata": {},
   "outputs": [],
   "source": [
    "import re\n",
    "import numpy as np\n",
    "import pandas as pd\n",
    "import seaborn as sns\n",
    "import matplotlib.pyplot as plt"
   ]
  },
  {
   "cell_type": "code",
   "execution_count": 5,
   "id": "b0d7e1c4",
   "metadata": {},
   "outputs": [
    {
     "data": {
      "text/html": [
       "<div>\n",
       "<style scoped>\n",
       "    .dataframe tbody tr th:only-of-type {\n",
       "        vertical-align: middle;\n",
       "    }\n",
       "\n",
       "    .dataframe tbody tr th {\n",
       "        vertical-align: top;\n",
       "    }\n",
       "\n",
       "    .dataframe thead th {\n",
       "        text-align: right;\n",
       "    }\n",
       "</style>\n",
       "<table border=\"1\" class=\"dataframe\">\n",
       "  <thead>\n",
       "    <tr style=\"text-align: right;\">\n",
       "      <th></th>\n",
       "      <th>start_time</th>\n",
       "      <th>bat_landing_to_food</th>\n",
       "      <th>habit</th>\n",
       "      <th>rat_period_start</th>\n",
       "      <th>rat_period_end</th>\n",
       "      <th>seconds_after_rat_arrival</th>\n",
       "      <th>risk</th>\n",
       "      <th>reward</th>\n",
       "      <th>month</th>\n",
       "      <th>sunset_time</th>\n",
       "      <th>hours_after_sunset</th>\n",
       "      <th>season</th>\n",
       "    </tr>\n",
       "  </thead>\n",
       "  <tbody>\n",
       "    <tr>\n",
       "      <th>0</th>\n",
       "      <td>30/12/2017 18:37</td>\n",
       "      <td>16.000000</td>\n",
       "      <td>rat</td>\n",
       "      <td>30/12/2017 18:35</td>\n",
       "      <td>30/12/2017 18:38</td>\n",
       "      <td>108</td>\n",
       "      <td>1</td>\n",
       "      <td>0</td>\n",
       "      <td>0</td>\n",
       "      <td>30/12/2017 16:45</td>\n",
       "      <td>1.870833</td>\n",
       "      <td>0</td>\n",
       "    </tr>\n",
       "    <tr>\n",
       "      <th>1</th>\n",
       "      <td>30/12/2017 19:51</td>\n",
       "      <td>0.074016</td>\n",
       "      <td>fast</td>\n",
       "      <td>30/12/2017 19:50</td>\n",
       "      <td>30/12/2017 19:55</td>\n",
       "      <td>17</td>\n",
       "      <td>0</td>\n",
       "      <td>1</td>\n",
       "      <td>0</td>\n",
       "      <td>30/12/2017 16:45</td>\n",
       "      <td>3.100833</td>\n",
       "      <td>0</td>\n",
       "    </tr>\n",
       "    <tr>\n",
       "      <th>2</th>\n",
       "      <td>30/12/2017 19:51</td>\n",
       "      <td>4.000000</td>\n",
       "      <td>fast</td>\n",
       "      <td>30/12/2017 19:50</td>\n",
       "      <td>30/12/2017 19:55</td>\n",
       "      <td>41</td>\n",
       "      <td>0</td>\n",
       "      <td>1</td>\n",
       "      <td>0</td>\n",
       "      <td>30/12/2017 16:45</td>\n",
       "      <td>3.107500</td>\n",
       "      <td>0</td>\n",
       "    </tr>\n",
       "    <tr>\n",
       "      <th>3</th>\n",
       "      <td>30/12/2017 19:52</td>\n",
       "      <td>10.000000</td>\n",
       "      <td>rat</td>\n",
       "      <td>30/12/2017 19:50</td>\n",
       "      <td>30/12/2017 19:55</td>\n",
       "      <td>111</td>\n",
       "      <td>1</td>\n",
       "      <td>0</td>\n",
       "      <td>0</td>\n",
       "      <td>30/12/2017 16:45</td>\n",
       "      <td>3.126944</td>\n",
       "      <td>0</td>\n",
       "    </tr>\n",
       "    <tr>\n",
       "      <th>4</th>\n",
       "      <td>30/12/2017 19:54</td>\n",
       "      <td>15.000000</td>\n",
       "      <td>rat</td>\n",
       "      <td>30/12/2017 19:50</td>\n",
       "      <td>30/12/2017 19:55</td>\n",
       "      <td>194</td>\n",
       "      <td>1</td>\n",
       "      <td>0</td>\n",
       "      <td>0</td>\n",
       "      <td>30/12/2017 16:45</td>\n",
       "      <td>3.150000</td>\n",
       "      <td>0</td>\n",
       "    </tr>\n",
       "  </tbody>\n",
       "</table>\n",
       "</div>"
      ],
      "text/plain": [
       "         start_time  bat_landing_to_food habit  rat_period_start  \\\n",
       "0  30/12/2017 18:37            16.000000   rat  30/12/2017 18:35   \n",
       "1  30/12/2017 19:51             0.074016  fast  30/12/2017 19:50   \n",
       "2  30/12/2017 19:51             4.000000  fast  30/12/2017 19:50   \n",
       "3  30/12/2017 19:52            10.000000   rat  30/12/2017 19:50   \n",
       "4  30/12/2017 19:54            15.000000   rat  30/12/2017 19:50   \n",
       "\n",
       "     rat_period_end  seconds_after_rat_arrival  risk  reward  month  \\\n",
       "0  30/12/2017 18:38                        108     1       0      0   \n",
       "1  30/12/2017 19:55                         17     0       1      0   \n",
       "2  30/12/2017 19:55                         41     0       1      0   \n",
       "3  30/12/2017 19:55                        111     1       0      0   \n",
       "4  30/12/2017 19:55                        194     1       0      0   \n",
       "\n",
       "        sunset_time  hours_after_sunset  season  \n",
       "0  30/12/2017 16:45            1.870833       0  \n",
       "1  30/12/2017 16:45            3.100833       0  \n",
       "2  30/12/2017 16:45            3.107500       0  \n",
       "3  30/12/2017 16:45            3.126944       0  \n",
       "4  30/12/2017 16:45            3.150000       0  "
      ]
     },
     "execution_count": 5,
     "metadata": {},
     "output_type": "execute_result"
    }
   ],
   "source": [
    "df = pd.read_csv(\"raw_data/dataset1.csv\")\n",
    "df.head()"
   ]
  },
  {
   "cell_type": "code",
   "execution_count": 7,
   "id": "ac89dc71",
   "metadata": {},
   "outputs": [
    {
     "name": "stdout",
     "output_type": "stream",
     "text": [
      "start_time                    object\n",
      "bat_landing_to_food          float64\n",
      "habit                         object\n",
      "rat_period_start              object\n",
      "rat_period_end                object\n",
      "seconds_after_rat_arrival      int64\n",
      "risk                           int64\n",
      "reward                         int64\n",
      "month                          int64\n",
      "sunset_time                   object\n",
      "hours_after_sunset           float64\n",
      "season                         int64\n",
      "dtype: object\n"
     ]
    }
   ],
   "source": [
    "print(df.dtypes)"
   ]
  },
  {
   "cell_type": "code",
   "execution_count": 9,
   "id": "9e3aef85",
   "metadata": {},
   "outputs": [
    {
     "name": "stdout",
     "output_type": "stream",
     "text": [
      "       bat_landing_to_food  seconds_after_rat_arrival        risk      reward  \\\n",
      "count           907.000000                 907.000000  907.000000  907.000000   \n",
      "mean             11.713134                 282.877619    0.495039    0.533627   \n",
      "std              27.644410                 240.974918    0.500251    0.499143   \n",
      "min               0.010238                   0.000000    0.000000    0.000000   \n",
      "25%               1.000000                  89.500000    0.000000    0.000000   \n",
      "50%               4.000000                 206.000000    0.000000    1.000000   \n",
      "75%              11.500000                 446.500000    1.000000    1.000000   \n",
      "max             443.000000                 949.000000    1.000000    1.000000   \n",
      "\n",
      "            month  hours_after_sunset      season  \n",
      "count  907.000000          907.000000  907.000000  \n",
      "mean     3.800441            5.531863    0.833517  \n",
      "std      1.199190            2.414146    0.372719  \n",
      "min      0.000000           -0.261667    0.000000  \n",
      "25%      4.000000            3.779028    1.000000  \n",
      "50%      4.000000            5.622778    1.000000  \n",
      "75%      5.000000            7.402778    1.000000  \n",
      "max      5.000000           12.091944    1.000000  \n"
     ]
    }
   ],
   "source": [
    "print(df.describe())"
   ]
  },
  {
   "cell_type": "code",
   "execution_count": 10,
   "id": "a3526b39",
   "metadata": {},
   "outputs": [],
   "source": [
    "# Remove Duplicate rows\n",
    "df = df.drop_duplicates()"
   ]
  },
  {
   "cell_type": "code",
   "execution_count": 11,
   "id": "f0d3a63b",
   "metadata": {},
   "outputs": [
    {
     "name": "stdout",
     "output_type": "stream",
     "text": [
      "start_time                    0\n",
      "bat_landing_to_food           0\n",
      "habit                        41\n",
      "rat_period_start              0\n",
      "rat_period_end                0\n",
      "seconds_after_rat_arrival     0\n",
      "risk                          0\n",
      "reward                        0\n",
      "month                         0\n",
      "sunset_time                   0\n",
      "hours_after_sunset            0\n",
      "season                        0\n",
      "dtype: int64\n"
     ]
    }
   ],
   "source": [
    "# Check Missing Values\n",
    "print(df.isnull().sum())"
   ]
  },
  {
   "cell_type": "code",
   "execution_count": 12,
   "id": "d4b6bdd2",
   "metadata": {},
   "outputs": [
    {
     "data": {
      "text/plain": [
       "array(['rat', 'fast', 'pick', 'bat_fight', 'rat_and_no_food', nan,\n",
       "       'rat_and_others', 'pick_and_others', 'gaze', 'pick_rat', 'bat',\n",
       "       'both', 'pick_bat',\n",
       "       '94.0,305.0,239.0,416.0; 364.8,139.3,462.3,241.3', 'rat attack',\n",
       "       'attack_rat', 'bat_and_rat', 'rat_attack', 'other_bats',\n",
       "       'rat_pick', 'rat_and_bat', 'bowl_out', 'other_bat',\n",
       "       '373.0,80.0,504.0,148.0; 274.6,110.7,382.4,267.3', 'other',\n",
       "       '245.6,179.5,321.4,314.0; 522.4,0.3,592.0,95.5', 'eating',\n",
       "       'rat_to_bat', 'other_bats/rat',\n",
       "       '405.6,112.3,513.1,215.4; 464.1,197.7,614.9,334.3; 511.5,301.1,639.4,388.9',\n",
       "       'pick_and_all', 'bat_and_pick', 'bat_fight_and_pick',\n",
       "       '187.0,152.0,304.0,240.0; 567.9,88.6,621.1,140.3',\n",
       "       '44.0,77.0,157.0,240.0; 253.0,96.0,346.0,147.0',\n",
       "       '397.7,159.7,580.2,330.5; 252.0,92.0,346.0,149.0', 'pick_and_bat',\n",
       "       '218.0,171.0,381.0,269.0; 239.0,106.0,315.0,155.0',\n",
       "       '423.0,155.9,535.6,370.9; 238.0,99.0,314.0,160.0',\n",
       "       'eating_and_bat_and_pick', 'bat_figiht', 'bat_pick_rat',\n",
       "       '415.0,86.5,559.2,140.2; 66.0,157.0,285.0,279.0',\n",
       "       'rat_pick_and_bat', 'pick_and_rat', 'fight_rat', 'all_pick',\n",
       "       'no_food', 'bats', 'others', 'rat_and_pick',\n",
       "       '157.0,2.6,349.0,159.3; 572.1,275.7,638.3,360.0', 'pick_rat_bat',\n",
       "       'bat_and_pick_far', 'fast_far',\n",
       "       '530.0,20.0,611.0,156.0; 227.6,128.8,290.8,208.0', 'fight',\n",
       "       'bat_rat_pick', 'bat_pick', 'rat_disappear', 'eating_bat_rat_pick',\n",
       "       'fast_and_pick', 'other directions',\n",
       "       '243.6,235.6,432.2,329.8; 559.0,244.0,622.0,395.0',\n",
       "       'bat_fight_rat', 'bat_rat', 'pup_and_mon', 'pick_eating_all',\n",
       "       '511.7,236.3,632.2,404.5; 445.0,199.0,503.0,245.0', 'pick_bat_rat',\n",
       "       '417.7,117.1,635.5,346.0; 243.0,272.0,308.0,379.0; 438.0,230.0,494.0,291.0',\n",
       "       'rat_bat', 'rat_bat_fight', 'eating_bat_pick', 'pick_rat_and_bat',\n",
       "       'fight_bat', '380.6,321.1,550.6,477.5; 263.0,267.0,421.0,435.0',\n",
       "       'bat_fight_and_rat', 'rat_and_rat', 'not_sure_rat',\n",
       "       '501.0,358.4,636.2,423.4; 476.0,103.0,634.0,206.0',\n",
       "       'rat_and_bat_and_pick'], dtype=object)"
      ]
     },
     "execution_count": 12,
     "metadata": {},
     "output_type": "execute_result"
    }
   ],
   "source": [
    "df['habit'].unique()"
   ]
  },
  {
   "cell_type": "code",
   "execution_count": 13,
   "id": "7475f327",
   "metadata": {},
   "outputs": [],
   "source": [
    "# Parse datetimes\n",
    "dt_cols = ['start_time', 'rat_period_start', 'rat_period_end', 'sunset_time']\n",
    "for c in dt_cols:\n",
    "    if c in df.columns:\n",
    "        df[c] = pd.to_datetime(df[c], errors='coerce', dayfirst=True)"
   ]
  },
  {
   "cell_type": "code",
   "execution_count": 14,
   "id": "e8c3a344",
   "metadata": {},
   "outputs": [],
   "source": [
    "# Coerce numerics\n",
    "for c in ['bat_landing_to_food', 'seconds_after_rat_arrival', 'hours_after_sunset']:\n",
    "    if c in df.columns:\n",
    "        df[c] = pd.to_numeric(df[c], errors='coerce')"
   ]
  },
  {
   "cell_type": "code",
   "execution_count": 15,
   "id": "b89adbbd",
   "metadata": {},
   "outputs": [],
   "source": [
    "\n",
    "# Binary flags to Int64 (nullable)\n",
    "for c in ['risk', 'reward']:\n",
    "    if c in df.columns:\n",
    "        df[c] = pd.to_numeric(df[c], errors='coerce').astype('Int64')"
   ]
  },
  {
   "cell_type": "code",
   "execution_count": 18,
   "id": "c547af95",
   "metadata": {},
   "outputs": [
    {
     "data": {
      "text/plain": [
       "np.False_"
      ]
     },
     "execution_count": 18,
     "metadata": {},
     "output_type": "execute_result"
    }
   ],
   "source": [
    "# Check for negative values in each column\n",
    "negative_check = (df['seconds_after_rat_arrival'] < 0).any()\n",
    "negative_check"
   ]
  },
  {
   "cell_type": "code",
   "execution_count": 21,
   "id": "5d336b64",
   "metadata": {},
   "outputs": [
    {
     "name": "stdout",
     "output_type": "stream",
     "text": [
      "Unique habits after cleaning: ['rat' 'fast' 'pick' 'bat_fight' 'Other' 'Unknown' 'bat' 'pick_bat'\n",
      " 'bat_and_rat' 'rat_pick' 'rat_and_bat' 'bat_and_pick']\n"
     ]
    }
   ],
   "source": [
    "def clean_habit(habit):\n",
    "    if pd.isna(habit) or str(habit).strip() == \"\":\n",
    "        return \"Unknown\"\n",
    "    \n",
    "    h = str(habit).lower().strip()\n",
    "    \n",
    "    # Remove coordinate-like or numeric only values\n",
    "    if re.fullmatch(r\"[0-9\\.\\,\\s]+\", h):\n",
    "        return \"Unknown\"\n",
    "    \n",
    "    # Synonym unification\n",
    "    h = h.replace(\"bats\", \"bat\").replace(\"pick_and_bat\", \"pick_bat\").replace(\"rat_and_pick\", \"rat_pick\")\n",
    "    \n",
    "    return h\n",
    "\n",
    "df[\"habit\"] = df[\"habit\"].apply(clean_habit)\n",
    "\n",
    "# Consolidate rare categories\n",
    "freq = df[\"habit\"].value_counts()\n",
    "rare = freq[freq < 10].index\n",
    "df[\"habit\"] = df[\"habit\"].replace(rare, \"Other\")\n",
    "\n",
    "# Final small interpretable set\n",
    "print(\"Unique habits after cleaning:\", df[\"habit\"].unique())"
   ]
  },
  {
   "cell_type": "code",
   "execution_count": 25,
   "id": "179f2af7",
   "metadata": {},
   "outputs": [
    {
     "data": {
      "image/png": "[encoded data removed]",
      "text/plain": [
       "<Figure size 1000x600 with 1 Axes>"
      ]
     },
     "metadata": {},
     "output_type": "display_data"
    }
   ],
   "source": [
    "# Visulaize Outliners\n",
    "\n",
    "# Plot boxplot\n",
    "plt.figure(figsize=(10, 6))\n",
    "sns.boxplot(data=df[['bat_landing_to_food', 'seconds_after_rat_arrival', 'hours_after_sunset']])\n",
    "\n",
    "# Add labels and title\n",
    "plt.title('Boxplot')\n",
    "plt.ylabel('Values')\n",
    "plt.show()"
   ]
  },
  {
   "cell_type": "code",
   "execution_count": 26,
   "id": "3a3b2017",
   "metadata": {},
   "outputs": [],
   "source": [
    "# Function to detect outliers using IQR\n",
    "def detect_outliers_iqr(df, column):\n",
    "    # Calculate Q1 (25th percentile) and Q3 (75th percentile)\n",
    "    Q1 = df[column].quantile(0.25)\n",
    "    Q3 = df[column].quantile(0.75)\n",
    "\n",
    "    # Calculate IQR\n",
    "    IQR = Q3 - Q1\n",
    "\n",
    "    # Calculate bounds\n",
    "    lower_bound = Q1 - 1.5 * IQR\n",
    "    upper_bound = Q3 + 1.5 * IQR\n",
    "\n",
    "    # Identify outliers\n",
    "    outliers = df[(df[column] < lower_bound) | (df[column] > upper_bound)]\n",
    "\n",
    "    return outliers, lower_bound, upper_bound\n",
    "\n",
    "# Example: Detect outliers in 'col1'\n",
    "outliers_col1, lower_bound, upper_bound = detect_outliers_iqr(df, 'bat_landing_to_food')"
   ]
  },
  {
   "cell_type": "code",
   "execution_count": 27,
   "id": "5b73f31f",
   "metadata": {},
   "outputs": [
    {
     "data": {
      "text/plain": [
       "[443.0,\n",
       " 275.0,\n",
       " 237.0,\n",
       " 195.0,\n",
       " 176.0,\n",
       " 174.0,\n",
       " 164.0,\n",
       " 155.0,\n",
       " 155.0,\n",
       " 150.0,\n",
       " 120.0,\n",
       " 118.0,\n",
       " 109.0,\n",
       " 106.0,\n",
       " 105.0,\n",
       " 104.0,\n",
       " 83.0,\n",
       " 82.0,\n",
       " 81.0,\n",
       " 80.0,\n",
       " 76.0,\n",
       " 73.0,\n",
       " 72.0,\n",
       " 71.0,\n",
       " 68.0,\n",
       " 67.0,\n",
       " 67.0,\n",
       " 65.0,\n",
       " 61.0,\n",
       " 59.0,\n",
       " 56.0,\n",
       " 55.0,\n",
       " 54.0,\n",
       " 54.0,\n",
       " 52.0,\n",
       " 50.0,\n",
       " 50.0,\n",
       " 50.0,\n",
       " 48.0,\n",
       " 47.0,\n",
       " 46.0,\n",
       " 46.0,\n",
       " 45.0,\n",
       " 44.0,\n",
       " 43.0,\n",
       " 42.0,\n",
       " 41.0,\n",
       " 40.0,\n",
       " 39.0,\n",
       " 39.0,\n",
       " 39.0,\n",
       " 38.0,\n",
       " 37.0,\n",
       " 37.0,\n",
       " 37.0,\n",
       " 36.0,\n",
       " 36.0,\n",
       " 36.0,\n",
       " 36.0,\n",
       " 35.0,\n",
       " 35.0,\n",
       " 35.0,\n",
       " 34.0,\n",
       " 34.0,\n",
       " 34.0,\n",
       " 33.0,\n",
       " 33.0,\n",
       " 32.0,\n",
       " 31.0,\n",
       " 31.0,\n",
       " 31.0,\n",
       " 31.0,\n",
       " 31.0,\n",
       " 31.0,\n",
       " 30.0,\n",
       " 30.0,\n",
       " 30.0,\n",
       " 30.0,\n",
       " 29.0,\n",
       " 29.0,\n",
       " 29.0,\n",
       " 29.0,\n",
       " 29.0,\n",
       " 28.0,\n",
       " 28.0,\n",
       " 28.0,\n",
       " 28.0,\n",
       " 28.0]"
      ]
     },
     "execution_count": 27,
     "metadata": {},
     "output_type": "execute_result"
    }
   ],
   "source": [
    "sorted(list(outliers_col1['bat_landing_to_food']), reverse=True)"
   ]
  },
  {
   "cell_type": "code",
   "execution_count": 28,
   "id": "bc87cf45",
   "metadata": {},
   "outputs": [
    {
     "name": "stdout",
     "output_type": "stream",
     "text": [
      "148.50000000000136\n"
     ]
    }
   ],
   "source": [
    "upper_limit = df[\"bat_landing_to_food\"].quantile(0.99)\n",
    "print(upper_limit)\n",
    "\n",
    "# Cap values in 'bat_landing_to_food' column that are above the upper bound limit\n",
    "df['bat_landing_to_food'] = df['bat_landing_to_food'].apply(lambda x: min(x, upper_limit))"
   ]
  },
  {
   "cell_type": "code",
   "execution_count": 29,
   "id": "89105ae1",
   "metadata": {},
   "outputs": [],
   "source": [
    "# Create 30-min period key by flooring start_time\n",
    "df = df.loc[df['start_time'].notna()].copy()\n",
    "df['period_time'] = df['start_time'].dt.floor('30min')"
   ]
  },
  {
   "cell_type": "code",
   "execution_count": 31,
   "id": "f4026886",
   "metadata": {},
   "outputs": [],
   "source": [
    "df.to_csv(\"cleaned_data/dataset1_clean.csv\")"
   ]
  },
  {
   "cell_type": "code",
   "execution_count": null,
   "id": "142fd68c",
   "metadata": {},
   "outputs": [],
   "source": []
  }
 ],
 "metadata": {
  "kernelspec": {
   "display_name": "Python (bat-vs-rat)",
   "language": "python",
   "name": "bat-vs-rat"
  },
  "language_info": {
   "codemirror_mode": {
    "name": "ipython",
    "version": 3
   },
   "file_extension": ".py",
   "mimetype": "text/x-python",
   "name": "python",
   "nbconvert_exporter": "python",
   "pygments_lexer": "ipython3",
   "version": "3.11.13"
  }
 },
 "nbformat": 4,
 "nbformat_minor": 5
}
